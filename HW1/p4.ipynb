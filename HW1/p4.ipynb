{
 "cells": [
  {
   "cell_type": "code",
   "execution_count": 1,
   "metadata": {
    "collapsed": true
   },
   "outputs": [],
   "source": [
    "import networkx as nx\n",
    "from tqdm import tqdm\n",
    "from datetime import datetime"
   ]
  },
  {
   "cell_type": "code",
   "execution_count": 2,
   "outputs": [],
   "source": [
    "start = datetime.now()\n",
    "file = open('ca-AstroPh.txt','r')\n",
    "lines = file.readlines()"
   ],
   "metadata": {
    "collapsed": false
   }
  },
  {
   "cell_type": "code",
   "execution_count": 3,
   "outputs": [],
   "source": [
    "def dic2list(myDic):\n",
    "    graph = []\n",
    "    for i in myDic.keys():\n",
    "        graph.append(i)\n",
    "    return graph"
   ],
   "metadata": {
    "collapsed": false
   }
  },
  {
   "cell_type": "code",
   "execution_count": 49,
   "outputs": [
    {
     "data": {
      "text/plain": "[7707, 74614]"
     },
     "execution_count": 49,
     "metadata": {},
     "output_type": "execute_result"
    }
   ],
   "source": [
    "nodes = {}\n",
    "unique_nodes = set()\n",
    "neighbor_c = {}\n",
    "for l in lines:\n",
    "    if '#' in str(l):\n",
    "        continue\n",
    "    node = l.replace('\\n','').split('\\t')\n",
    "    n1 = int(node[0])\n",
    "    n2 = int(node[1])\n",
    "    nodes[(n1,n2)] = 1\n",
    "    unique_nodes.add(n1)\n",
    "    if  neighbor_c.get(n1,0) == 0:\n",
    "             neighbor_c[n1] = []\n",
    "    neighbor_c[n1].append(n2)\n",
    "nodes_set = dic2list(nodes)\n",
    "\n",
    "# len(neighbor_c)\n",
    "# neighbor_c[4]"
   ],
   "metadata": {
    "collapsed": false
   }
  },
  {
   "cell_type": "code",
   "execution_count": 5,
   "outputs": [],
   "source": [
    "def my_bfs(visited, queue, graph, node):\n",
    "    visited.append(node)\n",
    "    queue.append(node)\n",
    "    n_list = []\n",
    "    while queue:\n",
    "        s = queue.pop(0)\n",
    "        n_list.append(s)\n",
    "        for neighbour in graph[s]:\n",
    "            if neighbour not in visited:\n",
    "                visited.append(neighbour)\n",
    "                queue.append(neighbour)\n",
    "    return n_list"
   ],
   "metadata": {
    "collapsed": false
   }
  },
  {
   "cell_type": "code",
   "execution_count": 6,
   "outputs": [],
   "source": [
    "def iter_bfs_2(neighbor):\n",
    "    visited_n = []\n",
    "    queue_n = []\n",
    "    n_neighbor = {}\n",
    "    for a in tqdm(neighbor):\n",
    "        n_neighbor[a] = my_bfs(queue_n, visited_n,neighbor_c,a)\n",
    "    return n_neighbor"
   ],
   "metadata": {
    "collapsed": false
   }
  },
  {
   "cell_type": "code",
   "execution_count": 7,
   "outputs": [
    {
     "name": "stderr",
     "output_type": "stream",
     "text": [
      "100%|██████████| 18772/18772 [01:11<00:00, 263.49it/s]\n"
     ]
    }
   ],
   "source": [
    "hc_bfsed =  iter_bfs_2(unique_nodes)"
   ],
   "metadata": {
    "collapsed": false
   }
  },
  {
   "cell_type": "code",
   "execution_count": 58,
   "outputs": [
    {
     "data": {
      "text/plain": "[4]"
     },
     "execution_count": 58,
     "metadata": {},
     "output_type": "execute_result"
    }
   ],
   "source": [
    "len(hc_bfsed[4])\n",
    "hc_bfsed[4]"
   ],
   "metadata": {
    "collapsed": false
   }
  },
  {
   "cell_type": "code",
   "execution_count": 8,
   "outputs": [],
   "source": [
    "out_sorted = sorted(hc_bfsed, key=lambda k: len(hc_bfsed[k]), reverse=True).copy()"
   ],
   "metadata": {
    "collapsed": false
   }
  },
  {
   "cell_type": "code",
   "execution_count": 9,
   "outputs": [
    {
     "data": {
      "text/plain": "[3, 97939, 68695, 67720, 65252, 33128, 358, 131978, 100471, 885]"
     },
     "execution_count": 9,
     "metadata": {},
     "output_type": "execute_result"
    }
   ],
   "source": [
    "def hill_climbing(hc_s):\n",
    "    unique_nodes_h = unique_nodes.copy()\n",
    "    neigh = set()\n",
    "    for s in hc_s:\n",
    "        unique_nodes_h.remove(s)\n",
    "        neigh.add(frozenset(hc_bfsed[s]))\n",
    "    while  len(hc_s) < 10 :\n",
    "        temp_dic = {}\n",
    "        for n in unique_nodes_h:\n",
    "            temp_dic[n] = neigh.union(hc_bfsed[n])\n",
    "        selected = sorted(temp_dic, key=lambda k: len(temp_dic[k]), reverse=True)[0]\n",
    "        neigh.add(frozenset(temp_dic[selected]))\n",
    "        hc_s.append(selected)\n",
    "        unique_nodes_h.remove(selected)\n",
    "    return hc_s\n",
    "S = []\n",
    "S.append(out_sorted[0])\n",
    "\n",
    "hc = hill_climbing(S)\n",
    "hc"
   ],
   "metadata": {
    "collapsed": false
   }
  },
  {
   "cell_type": "markdown",
   "source": [
    "### -Lazy Hill Climbing"
   ],
   "metadata": {
    "collapsed": false
   }
  },
  {
   "cell_type": "code",
   "execution_count": 10,
   "outputs": [],
   "source": [
    "lhc_bfs = hc_bfsed.copy()\n",
    "# lhc_bfs_sorted = sorted(lhc_bfs, key=lambda k: len(lhc_bfs[k]), reverse=True)"
   ],
   "metadata": {
    "collapsed": false
   }
  },
  {
   "cell_type": "code",
   "execution_count": 11,
   "outputs": [
    {
     "data": {
      "text/plain": "[3, 97939, 68695, 65252, 67720, 33128, 358, 131978, 100471, 885]"
     },
     "execution_count": 11,
     "metadata": {},
     "output_type": "execute_result"
    }
   ],
   "source": [
    "def lazy_hill_climbing():\n",
    "    sl = []\n",
    "    neighbor_sorted_l = out_sorted.copy()\n",
    "    s1 = neighbor_sorted_l[0]\n",
    "    sl.append(s1)\n",
    "    sl_outs = lhc_bfs[s1].copy()\n",
    "\n",
    "    neighbor_sorted_l.remove(s1)\n",
    "    for i, n in enumerate(neighbor_sorted_l):\n",
    "        if len(sl) > 9:\n",
    "            break\n",
    "        left = n\n",
    "        right = neighbor_sorted_l[i + 1]\n",
    "\n",
    "        mg_l = [a for a in lhc_bfs[left] if a not in sl_outs]\n",
    "\n",
    "        l = len(mg_l)\n",
    "        r = len(lhc_bfs[right])\n",
    "\n",
    "        if l >= r:\n",
    "            sl.append(n)\n",
    "            sl_outs.append(lhc_bfs[n])\n",
    "        else:\n",
    "            lhc_bfs[n] = mg_l.copy()\n",
    "            neighbor_sorted_l = sorted(lhc_bfs, key=lambda k: len(lhc_bfs[k]), reverse=True).copy()\n",
    "    return sl\n",
    "lhc = lazy_hill_climbing()\n",
    "lhc"
   ],
   "metadata": {
    "collapsed": false
   }
  },
  {
   "cell_type": "code",
   "execution_count": 12,
   "outputs": [
    {
     "name": "stdout",
     "output_type": "stream",
     "text": [
      "sorted\n",
      "3 17903\n",
      "97939 18\n",
      "68695 12\n",
      "65252 10\n",
      "67720 10\n",
      "33128 9\n",
      "358 8\n",
      "131978 8\n",
      "100471 8\n",
      "885 7\n",
      "-----------\n",
      "hill climbing\n",
      "3 17903\n",
      "97939 18\n",
      "68695 12\n",
      "67720 10\n",
      "65252 10\n",
      "33128 9\n",
      "358 8\n",
      "131978 8\n",
      "100471 8\n",
      "885 7\n",
      "-----------\n",
      "Lazy hill climbing\n",
      "3 17903\n",
      "97939 18\n",
      "68695 12\n",
      "65252 10\n",
      "67720 10\n",
      "33128 9\n",
      "358 8\n",
      "131978 8\n",
      "100471 8\n",
      "885 7\n"
     ]
    }
   ],
   "source": [
    "print(\"sorted\")\n",
    "for i in out_sorted[0:10]:\n",
    "    print(i,len(list(nx.bfs_tree(nx.DiGraph(nodes_set),i  ))))\n",
    "print(\"-----------\\nhill climbing\")\n",
    "for i in hc:\n",
    "    print(i,len(list(nx.bfs_tree(nx.DiGraph(nodes_set),i  ))))\n",
    "print(\"-----------\\nLazy hill climbing\")\n",
    "for i in lhc:\n",
    "    print(i,len(list(nx.bfs_tree(nx.DiGraph(nodes_set),i  ))))\n",
    "\n"
   ],
   "metadata": {
    "collapsed": false
   }
  },
  {
   "cell_type": "code",
   "execution_count": 41,
   "outputs": [
    {
     "name": "stdout",
     "output_type": "stream",
     "text": [
      "4 17903\n"
     ]
    }
   ],
   "source": [
    "print(4,len(list(nx.bfs_tree(nx.DiGraph(nodes_set),4  ))))"
   ],
   "metadata": {
    "collapsed": false
   }
  },
  {
   "cell_type": "code",
   "execution_count": 40,
   "outputs": [
    {
     "data": {
      "text/plain": "18.0"
     },
     "execution_count": 40,
     "metadata": {},
     "output_type": "execute_result"
    }
   ],
   "source": [
    "\n",
    "cost = {v: 1 for v in unique_nodes}\n",
    "\n",
    "benefit_cost_ratio = {v: len(hc_bfsed[v]) / cst for v, cst in cost.items()}\n",
    "benefit_cost_ratio[97939]\n",
    "# values = list(benefit_cost_ratio.values())\n",
    "# keys = list(benefit_cost_ratio.keys())\n",
    "# max_index = values.index(max(values))\n",
    "# selected_node = keys[max_index]\n",
    "# selected_node"
   ],
   "metadata": {
    "collapsed": false
   }
  },
  {
   "cell_type": "code",
   "execution_count": 16,
   "outputs": [
    {
     "ename": "TypeError",
     "evalue": "list indices must be integers or slices, not tuple",
     "output_type": "error",
     "traceback": [
      "\u001B[0;31m---------------------------------------------------------------------------\u001B[0m",
      "\u001B[0;31mTypeError\u001B[0m                                 Traceback (most recent call last)",
      "Cell \u001B[0;32mIn [16], line 1\u001B[0m\n\u001B[0;32m----> 1\u001B[0m benefit_cost_ratio \u001B[38;5;241m=\u001B[39m {v: \u001B[38;5;28mlen\u001B[39m(out_sorted[v]) \u001B[38;5;241m/\u001B[39m cst \u001B[38;5;28;01mfor\u001B[39;00m v, cst \u001B[38;5;129;01min\u001B[39;00m cost\u001B[38;5;241m.\u001B[39mitems()}\n\u001B[1;32m      2\u001B[0m benefit_cost_ratio\n",
      "Cell \u001B[0;32mIn [16], line 1\u001B[0m, in \u001B[0;36m<dictcomp>\u001B[0;34m(.0)\u001B[0m\n\u001B[0;32m----> 1\u001B[0m benefit_cost_ratio \u001B[38;5;241m=\u001B[39m {v: \u001B[38;5;28mlen\u001B[39m(\u001B[43mout_sorted\u001B[49m\u001B[43m[\u001B[49m\u001B[43mv\u001B[49m\u001B[43m]\u001B[49m) \u001B[38;5;241m/\u001B[39m cst \u001B[38;5;28;01mfor\u001B[39;00m v, cst \u001B[38;5;129;01min\u001B[39;00m cost\u001B[38;5;241m.\u001B[39mitems()}\n\u001B[1;32m      2\u001B[0m benefit_cost_ratio\n",
      "\u001B[0;31mTypeError\u001B[0m: list indices must be integers or slices, not tuple"
     ]
    }
   ],
   "source": [],
   "metadata": {
    "collapsed": false
   }
  }
 ],
 "metadata": {
  "kernelspec": {
   "display_name": "Python 3",
   "language": "python",
   "name": "python3"
  },
  "language_info": {
   "codemirror_mode": {
    "name": "ipython",
    "version": 2
   },
   "file_extension": ".py",
   "mimetype": "text/x-python",
   "name": "python",
   "nbconvert_exporter": "python",
   "pygments_lexer": "ipython2",
   "version": "2.7.6"
  }
 },
 "nbformat": 4,
 "nbformat_minor": 0
}
