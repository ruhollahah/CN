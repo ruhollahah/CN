{
 "cells": [
  {
   "cell_type": "code",
   "execution_count": 67,
   "metadata": {
    "collapsed": true
   },
   "outputs": [],
   "source": [
    "import networkx as nx\n",
    "from tqdm import tqdm\n",
    "from datetime import datetime"
   ]
  },
  {
   "cell_type": "code",
   "execution_count": 68,
   "outputs": [],
   "source": [
    "start = datetime.now()\n",
    "file = open('ca-AstroPh.txt','r')\n",
    "lines = file.readlines()"
   ],
   "metadata": {
    "collapsed": false
   }
  },
  {
   "cell_type": "code",
   "execution_count": 69,
   "outputs": [],
   "source": [
    "def dic2list(myDic):\n",
    "    graph = []\n",
    "    for i in myDic.keys():\n",
    "        graph.append(i)\n",
    "    return graph"
   ],
   "metadata": {
    "collapsed": false
   }
  },
  {
   "cell_type": "code",
   "execution_count": 70,
   "outputs": [],
   "source": [
    "nodes = {}\n",
    "unique_nodes = set()\n",
    "neighbor_c = {}\n",
    "for l in lines:\n",
    "    if '#' in str(l):\n",
    "        continue\n",
    "    node = l.replace('\\n','').split('\\t')\n",
    "    n1 = int(node[0])\n",
    "    n2 = int(node[1])\n",
    "    nodes[(n1,n2)] = 1\n",
    "    unique_nodes.add(n1)\n",
    "    unique_nodes.add(n2)\n",
    "    if  neighbor_c.get(n1,0) == 0:\n",
    "             neighbor_c[n1] = []\n",
    "    neighbor_c[n1].append(n2)\n",
    "nodes_set = dic2list(nodes)"
   ],
   "metadata": {
    "collapsed": false
   }
  },
  {
   "cell_type": "code",
   "execution_count": 71,
   "outputs": [],
   "source": [
    "def my_bfs(visited, queue, graph, node):\n",
    "    visited.append(node)\n",
    "    queue.append(node)\n",
    "    n_list = []\n",
    "    while queue:\n",
    "        s = queue.pop(0)\n",
    "        n_list.append(s)\n",
    "        # print(graph[s])\n",
    "        for neighbour in graph[s]:\n",
    "            if neighbour not in visited:\n",
    "                visited.append(neighbour)\n",
    "                queue.append(neighbour)\n",
    "    return n_list"
   ],
   "metadata": {
    "collapsed": false
   }
  },
  {
   "cell_type": "code",
   "execution_count": 72,
   "outputs": [],
   "source": [
    "def iter_bfs_2(neighbor):\n",
    "    visited_n = []\n",
    "    queue_n = []\n",
    "    n_neighbor = {}\n",
    "    for a in tqdm(neighbor):\n",
    "        n_neighbor[a] = my_bfs(queue_n, visited_n,neighbor_c,a)\n",
    "    return n_neighbor"
   ],
   "metadata": {
    "collapsed": false
   }
  },
  {
   "cell_type": "code",
   "execution_count": 73,
   "outputs": [
    {
     "name": "stderr",
     "output_type": "stream",
     "text": [
      "100%|██████████| 18772/18772 [01:20<00:00, 233.38it/s]\n"
     ]
    }
   ],
   "source": [
    "hc_bfsed =  iter_bfs_2(unique_nodes)"
   ],
   "metadata": {
    "collapsed": false
   }
  },
  {
   "cell_type": "code",
   "execution_count": 74,
   "outputs": [],
   "source": [
    "out_sorted = sorted(hc_bfsed, key=lambda k: len(hc_bfsed[k]), reverse=True).copy()"
   ],
   "metadata": {
    "collapsed": false
   }
  },
  {
   "cell_type": "markdown",
   "source": [
    "### Greedy solution"
   ],
   "metadata": {
    "collapsed": false
   }
  },
  {
   "cell_type": "code",
   "execution_count": 75,
   "outputs": [
    {
     "data": {
      "text/plain": "[3, 99974, 38863, 67720, 65252, 33128, 358, 131978, 100471, 885]"
     },
     "execution_count": 75,
     "metadata": {},
     "output_type": "execute_result"
    }
   ],
   "source": [
    "def hill_climbing(hc_s):\n",
    "    unique_nodes_h = unique_nodes.copy()\n",
    "    neigh = set()\n",
    "    for s in hc_s:\n",
    "        unique_nodes_h.remove(s)\n",
    "        neigh.add(frozenset(hc_bfsed[s]))\n",
    "    while  len(hc_s) < 10 :\n",
    "        temp_dic = {}\n",
    "        for n in unique_nodes_h:\n",
    "            temp_dic[n] = neigh.union(hc_bfsed[n])\n",
    "        selected = sorted(temp_dic, key=lambda k: len(temp_dic[k]), reverse=True)[0]\n",
    "        neigh.add(frozenset(temp_dic[selected]))\n",
    "        hc_s.append(selected)\n",
    "        unique_nodes_h.remove(selected)\n",
    "    return hc_s\n",
    "S = []\n",
    "S.append(out_sorted[0])\n",
    "\n",
    "hc = hill_climbing(S)\n",
    "hc"
   ],
   "metadata": {
    "collapsed": false
   }
  },
  {
   "cell_type": "markdown",
   "source": [
    "###  Celf with lazy Hill climbing (Marginal gain version)"
   ],
   "metadata": {
    "collapsed": false
   }
  },
  {
   "cell_type": "code",
   "execution_count": 76,
   "outputs": [],
   "source": [
    "lhc_bfs = hc_bfsed.copy()"
   ],
   "metadata": {
    "collapsed": false
   }
  },
  {
   "cell_type": "code",
   "execution_count": 77,
   "outputs": [
    {
     "data": {
      "text/plain": "[3, 99974, 38863, 65252, 67720, 33128, 358, 131978, 100471, 885]"
     },
     "execution_count": 77,
     "metadata": {},
     "output_type": "execute_result"
    }
   ],
   "source": [
    "def lazy_hill_climbing():\n",
    "    sl = []\n",
    "    neighbor_sorted_l = out_sorted.copy()\n",
    "    s1 = neighbor_sorted_l[0]\n",
    "    sl.append(s1)\n",
    "    sl_outs = lhc_bfs[s1].copy()\n",
    "\n",
    "    neighbor_sorted_l.remove(s1)\n",
    "    for i, n in enumerate(neighbor_sorted_l):\n",
    "        if len(sl) > 9:\n",
    "            break\n",
    "        left = n\n",
    "        right = neighbor_sorted_l[i + 1]\n",
    "\n",
    "        mg_l = [a for a in lhc_bfs[left] if a not in sl_outs]\n",
    "\n",
    "        l = len(mg_l)\n",
    "        r = len(lhc_bfs[right])\n",
    "\n",
    "        if l >= r:\n",
    "            sl.append(n)\n",
    "            sl_outs.append(lhc_bfs[n])\n",
    "        else:\n",
    "            lhc_bfs[n] = mg_l.copy()\n",
    "            neighbor_sorted_l = sorted(lhc_bfs, key=lambda k: len(lhc_bfs[k]), reverse=True).copy()\n",
    "    return sl\n",
    "lhc = lazy_hill_climbing()\n",
    "lhc"
   ],
   "metadata": {
    "collapsed": false
   }
  },
  {
   "cell_type": "markdown",
   "source": [
    "### Celf with lazy Hill climbing (benefit cost version)"
   ],
   "metadata": {
    "collapsed": false
   }
  },
  {
   "cell_type": "code",
   "execution_count": 78,
   "outputs": [],
   "source": [
    "cost = {v: 1 for v in unique_nodes}\n",
    "benefit_cost_ratio = {v: len(hc_bfsed[v]) / cst for v, cst in cost.items()}"
   ],
   "metadata": {
    "collapsed": false
   }
  },
  {
   "cell_type": "code",
   "execution_count": 79,
   "outputs": [],
   "source": [
    "cost = {v:1 for v in unique_nodes}\n",
    "mg_bc = {v: len(hc_bfsed[v]) / c for v,c in cost.items()}\n",
    "mg_sorted = sorted(mg_bc,key=lambda k:mg_bc[k],reverse=True)"
   ],
   "metadata": {
    "collapsed": false
   }
  },
  {
   "cell_type": "code",
   "execution_count": 80,
   "outputs": [],
   "source": [
    "def mg_calc(ne,node):\n",
    "    mg_neighbor = neighbor_c.copy()\n",
    "    for o in ne:\n",
    "        del mg_neighbor[o]\n",
    "    return len(my_bfs([],[],mg_neighbor,node))/1"
   ],
   "metadata": {
    "collapsed": false
   }
  },
  {
   "cell_type": "code",
   "execution_count": 81,
   "outputs": [],
   "source": [
    "def lhc_celf():\n",
    "    sl = []\n",
    "    mg_sorted_c = mg_sorted.copy()\n",
    "    mg_bc_c = mg_bc.copy()\n",
    "    s1 = mg_sorted_c[0]\n",
    "    sl.append(s1)\n",
    "    sl_outs = hc_bfsed[s1]\n",
    "    for i , m in enumerate(mg_sorted_c):\n",
    "        if len(sl) > 9:\n",
    "            break\n",
    "        left = m\n",
    "        right = mg_sorted_c[i+1]\n",
    "        l=mg_bc_c[left]\n",
    "        r=mg_bc_c[right]\n",
    "        if l >= r:\n",
    "            if i != 0:\n",
    "                sl.append(m)\n",
    "            sl_outs.append(hc_bfsed[m])\n",
    "            mg_bc_c[i+1] = mg_calc(sl,mg_sorted_c[i+1])\n",
    "            mg_sorted_c = sorted(mg_bc,key=lambda k:mg_bc[k],reverse=True)\n",
    "        else:\n",
    "            pass\n",
    "    return sl\n",
    "\n",
    "lhc_c = lhc_celf()"
   ],
   "metadata": {
    "collapsed": false
   }
  },
  {
   "cell_type": "markdown",
   "source": [
    "### Verify Final Answers with NetworkX library"
   ],
   "metadata": {
    "collapsed": false
   }
  },
  {
   "cell_type": "code",
   "execution_count": 82,
   "outputs": [
    {
     "name": "stdout",
     "output_type": "stream",
     "text": [
      "-----------\n",
      "hill climbing\n",
      "3 17903\n",
      "99974 18\n",
      "38863 12\n",
      "67720 10\n",
      "65252 10\n",
      "33128 9\n",
      "358 8\n",
      "131978 8\n",
      "100471 8\n",
      "885 7\n",
      "-----------\n",
      "Lazy hill climbing\n",
      "3 17903\n",
      "99974 18\n",
      "38863 12\n",
      "65252 10\n",
      "67720 10\n",
      "33128 9\n",
      "358 8\n",
      "131978 8\n",
      "100471 8\n",
      "885 7\n",
      "-----------\n",
      "hill climbing benefit cost\n",
      "3 17903\n",
      "99974 18\n",
      "38863 12\n",
      "65252 10\n",
      "67720 10\n",
      "33128 9\n",
      "358 8\n",
      "131978 8\n",
      "100471 8\n",
      "885 7\n"
     ]
    }
   ],
   "source": [
    "print(\"-----------\\nhill climbing\")\n",
    "for i in hc:\n",
    "    print(i,len(list(nx.bfs_tree(nx.DiGraph(nodes_set),i  ))))\n",
    "print(\"-----------\\nLazy hill climbing\")\n",
    "for i in lhc:\n",
    "    print(i,len(list(nx.bfs_tree(nx.DiGraph(nodes_set),i  ))))\n",
    "print(\"-----------\\nhill climbing benefit cost\")\n",
    "for i in lhc_c:\n",
    "    print(i,len(list(nx.bfs_tree(nx.DiGraph(nodes_set),i  ))))"
   ],
   "metadata": {
    "collapsed": false
   }
  }
 ],
 "metadata": {
  "kernelspec": {
   "display_name": "Python 3",
   "language": "python",
   "name": "python3"
  },
  "language_info": {
   "codemirror_mode": {
    "name": "ipython",
    "version": 2
   },
   "file_extension": ".py",
   "mimetype": "text/x-python",
   "name": "python",
   "nbconvert_exporter": "python",
   "pygments_lexer": "ipython2",
   "version": "2.7.6"
  }
 },
 "nbformat": 4,
 "nbformat_minor": 0
}
