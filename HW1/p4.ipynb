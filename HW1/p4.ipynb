{
 "cells": [
  {
   "cell_type": "code",
   "execution_count": 1,
   "metadata": {
    "collapsed": true
   },
   "outputs": [],
   "source": [
    "import networkx as nx\n",
    "from tqdm import tqdm\n",
    "from datetime import datetime"
   ]
  },
  {
   "cell_type": "code",
   "execution_count": 2,
   "outputs": [],
   "source": [
    "start = datetime.now()\n",
    "file = open('ca-AstroPh.txt','r')\n",
    "lines = file.readlines()"
   ],
   "metadata": {
    "collapsed": false
   }
  },
  {
   "cell_type": "code",
   "execution_count": 3,
   "outputs": [],
   "source": [
    "def dic2list(myDic):\n",
    "    graph = []\n",
    "    for i in myDic.keys():\n",
    "        graph.append(i)\n",
    "    return graph"
   ],
   "metadata": {
    "collapsed": false
   }
  },
  {
   "cell_type": "code",
   "execution_count": 4,
   "outputs": [],
   "source": [
    "nodes = {}\n",
    "unique_nodes = set()\n",
    "# neighbor = {}\n",
    "neighbor_c = {}\n",
    "for l in lines:\n",
    "    if '#' in str(l):\n",
    "        continue\n",
    "    node = l.replace('\\n','').split('\\t')\n",
    "    n1 = int(node[0])\n",
    "    n2 = int(node[1])\n",
    "    nodes[(n1,n2)] = 1\n",
    "    unique_nodes.add(n1)\n",
    "    if  neighbor_c.get(n1,0) == 0:\n",
    "             neighbor_c[n1] = []\n",
    "    neighbor_c[n1].append(n2)\n",
    "\n",
    "nodes_set = dic2list(nodes)"
   ],
   "metadata": {
    "collapsed": false
   }
  },
  {
   "cell_type": "code",
   "execution_count": 11,
   "outputs": [],
   "source": [
    "visited = []\n",
    "queue = []\n",
    "my_bfs_dic = {}\n",
    "def my_bfs( visited,graph, node):\n",
    "\n",
    "  visited.append(node)\n",
    "  queue.append(node)\n",
    "\n",
    "  n_list = []\n",
    "\n",
    "  while queue:\n",
    "    s = queue.pop(0)\n",
    "    n_list.append(s)\n",
    "\n",
    "    for neighbour in graph[s]:\n",
    "      if neighbour not in visited:\n",
    "        visited.append(neighbour)\n",
    "        queue.append(neighbour)\n",
    "  return  n_list\n",
    "\n"
   ],
   "metadata": {
    "collapsed": false
   }
  },
  {
   "cell_type": "code",
   "execution_count": 23,
   "outputs": [],
   "source": [
    "# n_neighbor = {}\n",
    "# visited_n = []\n",
    "# for a in tqdm(unique_nodes):\n",
    "#     n_neighbor[a] =my_bfs(visited_n,neighbor_c,a)\n",
    "\n",
    "def iter_bfs_2(neighbor):\n",
    "    visited_n = []  # List to keep track of visited nodes.\n",
    "    queue_n = []  #Initialize a queue\n",
    "    n_neighbor = {}\n",
    "    for a in tqdm(neighbor):\n",
    "\n",
    "        # n_neighbor[i] = bfs_l(neighbor,i)\n",
    "        n_neighbor[a] = my_bfs( visited_n,neighbor_c,a)\n",
    "    return n_neighbor\n",
    "# print(unique_nodes)\n"
   ],
   "metadata": {
    "collapsed": false
   }
  },
  {
   "cell_type": "code",
   "execution_count": 24,
   "outputs": [
    {
     "name": "stderr",
     "output_type": "stream",
     "text": [
      "100%|██████████| 18772/18772 [01:13<00:00, 254.88it/s]\n"
     ]
    },
    {
     "data": {
      "text/plain": "[3,\n 97939,\n 68695,\n 65252,\n 67720,\n 33128,\n 358,\n 131978,\n 100471,\n 885,\n 36198,\n 73085,\n 38714,\n 45652,\n 113007,\n 347,\n 66301,\n 33756,\n 99623,\n 34802,\n 35295,\n 2685,\n 101696,\n 102330,\n 70488,\n 103784,\n 105926,\n 106301,\n 108766,\n 65724,\n 33218,\n 66037,\n 98963,\n 99375,\n 132353,\n 1438,\n 1447,\n 1969,\n 46148,\n 101170,\n 35916,\n 69275,\n 69424,\n 102205,\n 102337,\n 102880,\n 4742,\n 103466,\n 38534,\n 38712,\n 72251,\n 6873,\n 39913,\n 7687,\n 74307,\n 42226,\n 9770,\n 75886,\n 12465,\n 79153,\n 49271,\n 115211,\n 51307,\n 20968,\n 125049,\n 230,\n 297,\n 602,\n 99166,\n 899,\n 99266,\n 33834,\n 99614,\n 1445,\n 132753,\n 2110,\n 133213,\n 133227,\n 2256,\n 67848,\n 100622,\n 2331,\n 100722,\n 2445,\n 2637,\n 2737,\n 2759,\n 35813,\n 68737,\n 36151,\n 36291,\n 3551,\n 101897,\n 69413,\n 4002,\n 102353,\n 37151,\n 102723,\n 4503,\n 4687,\n 111686,\n 5131,\n 37953,\n 70753,\n 5234,\n 5454,\n 71224,\n 38888,\n 6421,\n 39223,\n 6936,\n 7092,\n 39956,\n 99220,\n 40684,\n 66771,\n 74789,\n 9416,\n 75266,\n 108140,\n 42635,\n 108190,\n 9906,\n 10120,\n 43003,\n 76464,\n 109321,\n 76674,\n 109465,\n 11407,\n 11480,\n 11589,\n 12086,\n 110683,\n 79053,\n 14364,\n 16044,\n 114813,\n 17567,\n 116047,\n 83491,\n 116487,\n 117290,\n 53489,\n 119151,\n 120679,\n 121656,\n 123495,\n 93873,\n 98343,\n 81,\n 97,\n 131343,\n 131521,\n 131652,\n 66159,\n 624,\n 131714,\n 663,\n 33528,\n 33687,\n 99245,\n 66556,\n 34012,\n 99924,\n 132716,\n 1987,\n 133102,\n 2218,\n 100630,\n 35155,\n 35161,\n 2591,\n 2858,\n 35631,\n 2989,\n 101344,\n 101462,\n 3169,\n 3210,\n 101521,\n 36016,\n 3329,\n 36146,\n 36150,\n 101849,\n 3636,\n 3679,\n 36753,\n 4035,\n 4045,\n 36910,\n 37264,\n 37286,\n 70951,\n 59699,\n 38323,\n 71299,\n 38713,\n 6142,\n 6295,\n 6446,\n 72047,\n 105079,\n 6949,\n 72606,\n 7091,\n 73083,\n 7637,\n 105974,\n 40445,\n 66686,\n 40641,\n 73416,\n 7969,\n 8073,\n 41141,\n 107020,\n 74306,\n 42320,\n 42331,\n 75146,\n 119154,\n 108183,\n 108291,\n 42774,\n 108825,\n 43685,\n 11039,\n 109341,\n 11153,\n 109606,\n 109687,\n 44239,\n 11552,\n 44707,\n 110300,\n 110593,\n 45104,\n 45106,\n 12545,\n 45587,\n 13024,\n 111419,\n 111620,\n 46577,\n 80112,\n 112904,\n 80397,\n 80472,\n 113251,\n 15635,\n 16212,\n 16481,\n 114818,\n 16727,\n 115336,\n 115544,\n 82804,\n 17268,\n 17501,\n 116398,\n 50922,\n 18999,\n 117363,\n 85104,\n 118067,\n 19944,\n 52970,\n 20497,\n 23627,\n 119091,\n 21006,\n 119453,\n 54067,\n 22527,\n 56796,\n 123050,\n 90467,\n 124144,\n 91618,\n 125001,\n 59556,\n 27561,\n 122745,\n 28971,\n 29190,\n 31167,\n 97137,\n 4,\n 65541,\n 65540,\n 32776,\n 32777,\n 65546,\n 98315,\n 32778,\n 13,\n 98318,\n 15,\n 16,\n 17,\n 98319,\n 131091,\n 32787,\n 98325,\n 98326,\n 32791,\n 26,\n 27,\n 65564,\n 32796,\n 30,\n 65567,\n 65568,\n 65569,\n 32799,\n 35,\n 98340,\n 65571,\n 65566,\n 65570,\n 41,\n 98345,\n 43,\n 98348,\n 98349,\n 98346,\n 131121,\n 131122,\n 98354,\n 131123,\n 98356,\n 131126,\n 98358,\n 131127,\n 57,\n 65595,\n 131133,\n 65597,\n 65599,\n 32840,\n 73,\n 65610,\n 65613,\n 80,\n 65620,\n 84,\n 86,\n 88,\n 65627,\n 65628,\n 65629,\n 131167,\n 95,\n 65637,\n 102,\n 65638,\n 65642,\n 106,\n 98412,\n 131180,\n 65643,\n 98417,\n 114,\n 110742,\n 117,\n 119,\n 120,\n 65657,\n 124,\n 98431,\n 98432,\n 131204,\n 98439,\n 131209,\n 98441,\n 131211,\n 65676,\n 131212,\n 131215,\n 98449,\n 131217,\n 131221,\n 131222,\n 58646,\n 98456,\n 155,\n 157,\n 98463,\n 131234,\n 164,\n 131237,\n 110752,\n 98471,\n 172,\n 98477,\n 65713,\n 178,\n 179,\n 65718,\n 65719,\n 184,\n 65723,\n 189,\n 131263,\n 131266,\n 131272,\n 131273,\n 98506,\n 98511,\n 131279,\n 98512,\n 131281,\n 65751,\n 65753,\n 131292,\n 98529,\n 65763,\n 98532,\n 229,\n 131302,\n 231,\n 98536,\n 98533,\n 123790,\n 98540,\n 131309,\n 98541,\n 131303,\n 98545,\n 242,\n 131315,\n 123793,\n 131320,\n 131322,\n 131323,\n 131324,\n 131326,\n 131329,\n 65794,\n 131330,\n 65795,\n 65796,\n 65798,\n 65799,\n 65800,\n 65801,\n 98571,\n 131342,\n 33040,\n 131344,\n 33042,\n 97747,\n 276,\n 277,\n 278,\n 65814,\n 131352,\n 65817,\n 98586,\n 283,\n 98588,\n 33053,\n 98590,\n 65822,\n 284,\n 289,\n 131361,\n 65818,\n 291,\n 65829,\n 293,\n 295,\n 296,\n 131370,\n 298,\n 33068,\n 131373,\n 65838,\n 303,\n 304,\n 65841,\n 302,\n 131371,\n 131375,\n 131376,\n 310,\n 131385,\n 98621,\n 131389,\n 319,\n 131391,\n 321,\n 320,\n 131396,\n 98629,\n 131398,\n 33095,\n 131400,\n 98631,\n 131402,\n 33099,\n 98636,\n 333,\n 334,\n 335,\n 98639,\n 131409,\n 98635,\n 98643,\n 33108,\n 131413,\n 342,\n 131414,\n 98645,\n 131410,\n 98647,\n 98651,\n 349,\n 98654,\n 350,\n 352,\n 65889,\n 346,\n 353,\n 357,\n 33126,\n 65895,\n 33127,\n 33131,\n 33132,\n 33135,\n 33139,\n 33141,\n 131451,\n 33152,\n 384,\n 386,\n 385,\n 65927,\n 65928,\n 98698,\n 131468,\n 131469,\n 131470,\n 131471,\n 131472,\n 65937,\n 65938,\n 65939,\n 98709,\n 98712,\n 98714,\n 411,\n 65947,\n 33181,\n 65949,\n 98721,\n 98722,\n 418,\n 98724,\n 421,\n 33190,\n 33189,\n 131491,\n 425,\n 131496,\n 33195,\n 427,\n 98731,\n 426,\n 131497,\n 98735,\n 424,\n 33202,\n 33203,\n 98736,\n 33205,\n 65977,\n 65978,\n 65980,\n 65982,\n 131519,\n 65983,\n 65985,\n 98756,\n 131525,\n 65984,\n 131527,\n 98759,\n 98761,\n 33224,\n 65986,\n 33226,\n 461,\n 131534,\n 463,\n 131536,\n 465,\n 98770,\n 98771,\n 98765,\n 131541,\n 66006,\n 98772,\n 131544,\n 98777,\n 66010,\n 98776,\n 98780,\n 131542,\n 66018,\n 66022,\n 66023,\n 26149,\n 492,\n 131565,\n 494,\n 496,\n 66033,\n 498,\n 497,\n 66036,\n 501,\n 26151,\n 66039,\n 131575,\n 66040,\n 506,\n 507,\n 508,\n 503,\n 131587,\n 131588,\n 517,\n 518,\n 131591,\n 131592,\n 131593,\n 66058,\n 131594,\n 131596,\n 66061,\n 66059,\n 45694,\n 529,\n 530,\n 33302,\n 535,\n 66075,\n 542,\n 543,\n 66079,\n 66082,\n 98853,\n 66086,\n 555,\n 560,\n 98865,\n 66098,\n 561,\n 66100,\n 566,\n 131639,\n 98871,\n 98873,\n 568,\n 569,\n 98872,\n 573,\n 572,\n 131647,\n 577,\n 131650,\n 131651,\n 131649,\n 131654,\n 33351,\n 98896,\n 33362,\n 33364,\n 598,\n 33367,\n 599,\n 603,\n 604,\n 33380,\n 66157,\n 98926,\n 623,\n 66158,\n 66160,\n 98933,\n 131704,\n 33400,\n 33402,\n 635,\n 98940,\n 98941,\n 33401,\n 636,\n 98944,\n 131713,\n 642,\n 98948,\n 98949,\n 98947,\n 643,\n 98952,\n 98951,\n 98954,\n 131717,\n 98956,\n 98957,\n 654,\n 655,\n 98961,\n 98962,\n 33428,\n 661,\n 33430,\n 66200,\n 131737,\n 98970,\n 665,\n 33431,\n 131741,\n 66205,\n 131742,\n 98980,\n 98981,\n 98983,\n 680,\n 33448,\n 66222,\n 66232,\n 66233,\n 66234,\n 66241,\n 66245,\n 99023,\n 66256,\n 99024,\n 722,\n 99028,\n 99029,\n 725,\n 99031,\n 728,\n 729,\n 730,\n 66267,\n 33500,\n 117378,\n 33504,\n 66274,\n 33507,\n 131813,\n 33509,\n 131814,\n 33513,\n 746,\n 747,\n 748,\n 749,\n 751,\n 754,\n 33526,\n 762,\n 131835,\n 66300,\n 764,\n 33532,\n 766,\n 768,\n 131840,\n 131843,\n 772,\n 66309,\n 66310,\n 66311,\n 773,\n 131849,\n 131850,\n 99086,\n 131855,\n 784,\n 782,\n 131857,\n 783,\n 131860,\n 789,\n 790,\n 791,\n 131861,\n 131856,\n 131866,\n 131869,\n 66336,\n 99104,\n 99105,\n 99107,\n 811,\n 812,\n 813,\n 66350,\n 66351,\n 816,\n 815,\n 66356,\n 99126,\n 822,\n 824,\n 33593,\n 99129,\n 99131,\n 20873,\n 66367,\n 66368,\n 66369,\n 33604,\n 837,\n 839,\n 99144,\n 33609,\n 131914,\n 33610,\n 843,\n 33615,\n 66396,\n 99165,\n 66401,\n 99170,\n 867,\n 131940,\n 33635,\n 33636,\n 871,\n 872,\n 33641,\n 874,\n 99177,\n 33643,\n 66413,\n 99178,\n 99179,\n 99180,\n 33650,\n 884,\n 887,\n 889,\n 66426,\n 99193,\n 33657,\n 33659,\n 66430,\n 131967,\n 896,\n 33658,\n 895,\n 898,\n 897,\n 66438,\n 66439,\n 904,\n 131975,\n 99211,\n 131980,\n 131981,\n 131979,\n 131982,\n 66448,\n 131986,\n 99219,\n 131988,\n 916,\n 33686,\n 66451,\n 66456,\n 131993,\n 66459,\n 131987,\n 66461,\n 99230,\n 33692,\n 66464,\n 66465,\n 66469,\n 99239,\n 99240,\n 99242,\n 33709,\n 99251,\n 132020,\n 132021,\n 99254,\n 132023,\n 132024,\n 99258,\n 99259,\n 99260,\n 99263,\n 66502,\n 132043,\n 66511,\n 66513,\n 66514,\n 66515,\n 66518,\n 33751,\n 33752,\n 33753,\n 66522,\n 66525,\n 66526,\n 33759,\n 33760,\n 66527,\n 33757,\n 33763,\n 45787,\n 66535,\n 66538,\n 66539,\n 132075,\n 132076,\n 132077,\n 66544,\n 33777,\n 33778,\n 33779,\n 33781,\n 66553,\n 66555,\n 99324,\n 66557,\n 99327,\n 99332,\n 33797,\n 33798,\n 132104,\n 132105,\n 132106,\n 33805,\n 99347,\n 99348,\n 99349,\n 132121,\n 99359,\n 99361,\n 33830,\n 33832,\n 33833,\n 66602,\n 99370,\n 66605,\n 99374,\n 66608,\n 33840,\n 66607,\n 99386,\n 33851,\n 1086,\n 33854,\n 33855,\n 1095,\n 66632,\n 66633,\n 66634,\n 1099,\n 66636,\n 132173,\n 66637,\n 66638,\n 1102,\n 1105,\n 1112,\n 132185,\n 33883,\n 33884,\n 1116,\n 33885,\n 1119,\n 1120,\n 1121,\n 1122,\n 1123,\n 33887,\n 33886,\n 99431,\n 1127,\n 99432,\n 1128,\n 132206,\n 1134,\n 33908,\n 33909,\n 132217,\n 99449,\n ...]"
     },
     "execution_count": 24,
     "metadata": {},
     "output_type": "execute_result"
    }
   ],
   "source": [
    "hc_bfsed =  iter_bfs_2(unique_nodes)\n",
    "# sorted(hc_bfsed, key=lambda k: len(hc_bfsed[k]), reverse=True).copy()"
   ],
   "metadata": {
    "collapsed": false
   }
  },
  {
   "cell_type": "code",
   "execution_count": 58,
   "outputs": [],
   "source": [
    "# visited_n = []  # List to keep track of visited nodes.\n",
    "# queue_n = []  #Initialize a queue\n",
    "\n",
    "\n",
    "# def bfs(visited_n,queue_n, graph, node):\n",
    "#     b_list = []\n",
    "#     visited_n.append(node)\n",
    "#     queue_n.append(node)\n",
    "#\n",
    "#     while queue_n:\n",
    "#         s = queue_n.pop(0)\n",
    "#         b_list.append(s)\n",
    "#\n",
    "#\n",
    "#         for neighbour in graph[s]:\n",
    "#             if neighbour not in visited_n:\n",
    "#                 visited_n.append(neighbour)\n",
    "#                 queue_n.append(neighbour)\n",
    "#     return b_list"
   ],
   "metadata": {
    "collapsed": false
   }
  },
  {
   "cell_type": "code",
   "execution_count": 59,
   "outputs": [],
   "source": [
    "# def iter_bfs(neighbor):\n",
    "#     visited_n = []  # List to keep track of visited nodes.\n",
    "#     queue_n = []  #Initialize a queue\n",
    "#     n_neighbor = {}\n",
    "#     for i in tqdm(neighbor):\n",
    "#\n",
    "#         # n_neighbor[i] = bfs_l(neighbor,i)\n",
    "#         n_neighbor[i] = bfs(visited_n,queue_n,neighbor,i)\n",
    "#     return n_neighbor"
   ],
   "metadata": {
    "collapsed": false
   }
  },
  {
   "cell_type": "code",
   "execution_count": null,
   "outputs": [],
   "source": [
    "# my_bfs(neighbor_c,3)\n",
    "# for a in tqdm(unique_nodes):\n",
    "#     my_bfs(neighbor_c,a)"
   ],
   "metadata": {
    "collapsed": false
   }
  },
  {
   "cell_type": "code",
   "execution_count": 103,
   "outputs": [
    {
     "name": "stderr",
     "output_type": "stream",
     "text": [
      "  0%|          | 0/18772 [00:00<?, ?it/s]\n"
     ]
    },
    {
     "ename": "TypeError",
     "evalue": "'set' object is not subscriptable",
     "output_type": "error",
     "traceback": [
      "\u001B[0;31m---------------------------------------------------------------------------\u001B[0m",
      "\u001B[0;31mTypeError\u001B[0m                                 Traceback (most recent call last)",
      "Cell \u001B[0;32mIn [103], line 1\u001B[0m\n\u001B[0;32m----> 1\u001B[0m hc_bfsed \u001B[38;5;241m=\u001B[39m  \u001B[43miter_bfs\u001B[49m\u001B[43m(\u001B[49m\u001B[43munique_nodes\u001B[49m\u001B[43m)\u001B[49m\n",
      "Cell \u001B[0;32mIn [59], line 8\u001B[0m, in \u001B[0;36miter_bfs\u001B[0;34m(neighbor)\u001B[0m\n\u001B[1;32m      4\u001B[0m n_neighbor \u001B[38;5;241m=\u001B[39m {}\n\u001B[1;32m      5\u001B[0m \u001B[38;5;28;01mfor\u001B[39;00m i \u001B[38;5;129;01min\u001B[39;00m tqdm(neighbor):\n\u001B[1;32m      6\u001B[0m \n\u001B[1;32m      7\u001B[0m     \u001B[38;5;66;03m# n_neighbor[i] = bfs_l(neighbor,i)\u001B[39;00m\n\u001B[0;32m----> 8\u001B[0m     n_neighbor[i] \u001B[38;5;241m=\u001B[39m \u001B[43mbfs\u001B[49m\u001B[43m(\u001B[49m\u001B[43mvisited_n\u001B[49m\u001B[43m,\u001B[49m\u001B[43mqueue_n\u001B[49m\u001B[43m,\u001B[49m\u001B[43mneighbor\u001B[49m\u001B[43m,\u001B[49m\u001B[43mi\u001B[49m\u001B[43m)\u001B[49m\n\u001B[1;32m      9\u001B[0m \u001B[38;5;28;01mreturn\u001B[39;00m n_neighbor\n",
      "Cell \u001B[0;32mIn [58], line 15\u001B[0m, in \u001B[0;36mbfs\u001B[0;34m(visited_n, queue_n, graph, node)\u001B[0m\n\u001B[1;32m     11\u001B[0m s \u001B[38;5;241m=\u001B[39m queue_n\u001B[38;5;241m.\u001B[39mpop(\u001B[38;5;241m0\u001B[39m)\n\u001B[1;32m     12\u001B[0m b_list\u001B[38;5;241m.\u001B[39mappend(s)\n\u001B[0;32m---> 15\u001B[0m \u001B[38;5;28;01mfor\u001B[39;00m neighbour \u001B[38;5;129;01min\u001B[39;00m \u001B[43mgraph\u001B[49m\u001B[43m[\u001B[49m\u001B[43ms\u001B[49m\u001B[43m]\u001B[49m:\n\u001B[1;32m     16\u001B[0m     \u001B[38;5;28;01mif\u001B[39;00m neighbour \u001B[38;5;129;01mnot\u001B[39;00m \u001B[38;5;129;01min\u001B[39;00m visited_n:\n\u001B[1;32m     17\u001B[0m         visited_n\u001B[38;5;241m.\u001B[39mappend(neighbour)\n",
      "\u001B[0;31mTypeError\u001B[0m: 'set' object is not subscriptable"
     ]
    }
   ],
   "source": [
    "# hc_bfsed =  iter_bfs(unique_nodes)"
   ],
   "metadata": {
    "collapsed": false
   }
  },
  {
   "cell_type": "code",
   "execution_count": 26,
   "outputs": [
    {
     "data": {
      "text/plain": "[3, 97939, 68695, 65252, 67720, 33128, 358, 131978, 100471, 885]"
     },
     "execution_count": 26,
     "metadata": {},
     "output_type": "execute_result"
    }
   ],
   "source": [
    "neighbor_sorted = sorted(hc_bfsed, key=lambda k: len(hc_bfsed[k]), reverse=True).copy()\n",
    "neighbor_sorted[0:10]"
   ],
   "metadata": {
    "collapsed": false
   }
  },
  {
   "cell_type": "code",
   "execution_count": 27,
   "outputs": [
    {
     "name": "stdout",
     "output_type": "stream",
     "text": [
      "[3, 97939, 68695, 65252, 67720, 33128, 358, 131978, 100471, 885]\n"
     ]
    }
   ],
   "source": [
    "\n",
    "def hill_climbing(hc_s):\n",
    "    # neighbor_sorted.remove(neighbor_sorted[0])\n",
    "    neighbor_sorted_h = neighbor_sorted.copy()\n",
    "    neighbor_sorted_h.remove(neighbor_sorted_h[0])\n",
    "    neigh = set()\n",
    "    for s in hc_s:\n",
    "            neigh.add(frozenset(hc_bfsed[s]))\n",
    "    while  len(hc_s) < 10 :\n",
    "        temp_dic = {}\n",
    "        for n in neighbor_sorted_h:\n",
    "            temp_dic[n] = neigh.union(hc_bfsed[n])\n",
    "        selected = sorted(temp_dic, key=lambda k: len(temp_dic[k]), reverse=True)[0]\n",
    "        neigh.add(frozenset(temp_dic[selected]))\n",
    "        hc_s.append(selected)\n",
    "        neighbor_sorted_h.remove(selected)\n",
    "    return hc_s\n",
    "S = []\n",
    "S.append(neighbor_sorted[0])\n",
    "\n",
    "print(hill_climbing(S))"
   ],
   "metadata": {
    "collapsed": false
   }
  },
  {
   "cell_type": "code",
   "execution_count": 76,
   "outputs": [
    {
     "name": "stdout",
     "output_type": "stream",
     "text": [
      "None\n"
     ]
    }
   ],
   "source": [
    "# print(neighbor_sorted[0])\n",
    "\n",
    "#\n",
    "# print(datetime.now() -start)"
   ],
   "metadata": {
    "collapsed": false
   }
  },
  {
   "cell_type": "code",
   "execution_count": 8,
   "outputs": [
    {
     "name": "stderr",
     "output_type": "stream",
     "text": [
      "100%|██████████| 18772/18772 [01:19<00:00, 236.29it/s]\n"
     ]
    }
   ],
   "source": [
    "# lhc_bfs_o = iter_bfs(neighbor_c)\n"
   ],
   "metadata": {
    "collapsed": false
   }
  },
  {
   "cell_type": "code",
   "execution_count": 28,
   "outputs": [],
   "source": [
    "#START................\n",
    "lhc_bfs = hc_bfsed.copy()"
   ],
   "metadata": {
    "collapsed": false
   }
  },
  {
   "cell_type": "code",
   "execution_count": 29,
   "outputs": [
    {
     "data": {
      "text/plain": "[3, 97939, 68695, 65252, 67720, 33128, 358, 131978, 100471, 885]"
     },
     "execution_count": 29,
     "metadata": {},
     "output_type": "execute_result"
    }
   ],
   "source": [
    "lhc_bfs_sorted = sorted(lhc_bfs, key=lambda k: len(lhc_bfs[k]), reverse=True)\n",
    "lhc_bfs_sorted[0:10]\n"
   ],
   "metadata": {
    "collapsed": false
   }
  },
  {
   "cell_type": "code",
   "execution_count": 32,
   "outputs": [
    {
     "data": {
      "text/plain": "17903"
     },
     "execution_count": 32,
     "metadata": {},
     "output_type": "execute_result"
    }
   ],
   "source": [
    "len(lhc_bfs[3])"
   ],
   "metadata": {
    "collapsed": false
   }
  },
  {
   "cell_type": "code",
   "execution_count": 33,
   "outputs": [
    {
     "name": "stdout",
     "output_type": "stream",
     "text": [
      "[3, 97939, 68695, 65252, 67720, 33128, 358, 131978, 100471, 885]\n"
     ]
    }
   ],
   "source": [
    "def lazy_hill_climbing():\n",
    "\n",
    "    sl = []\n",
    "    sl_outs = []\n",
    "    neighbor_l = neighbor_c.copy()\n",
    "\n",
    "    neighbor_sorted_l = sorted(lhc_bfs, key=lambda k: len(lhc_bfs[k]), reverse=True).copy()\n",
    "    s1 = neighbor_sorted_l[0]\n",
    "    sl.append(s1)\n",
    "    sl_outs= lhc_bfs[s1].copy()\n",
    "\n",
    "    # del neighbor_l[s1]\n",
    "    neighbor_sorted_l.remove(s1)\n",
    "    # print(s1,neighbor_sorted_l])\n",
    "\n",
    "\n",
    "    for i,n in enumerate(neighbor_sorted_l):\n",
    "\n",
    "            if len(sl) > 9:\n",
    "                break\n",
    "            left = n\n",
    "            right = neighbor_sorted_l[i+1]\n",
    "            # lhc_bfs_old = lhc_bfs[left].copy()\n",
    "            #\n",
    "            # lhc_bfs[left] = bfs([],[],neighbor_l,left).copy()\n",
    "            # print(left,lhc_bfs_old == lhc_bfs[left])\n",
    "\n",
    "\n",
    "            mg_l =  [a for a in lhc_bfs[left] if a not in sl_outs]\n",
    "            # print(left,len(mg_l))\n",
    "\n",
    "            l = len(mg_l)\n",
    "            r =len(lhc_bfs[right])\n",
    "\n",
    "            if  l>= r:\n",
    "                # del neighbor_l[n]\n",
    "                # del lhc_bfs[n]\n",
    "                sl.append(n)\n",
    "                sl_outs.append( lhc_bfs[n])\n",
    "\n",
    "                # neighbor_sorted_l.remove(n)\n",
    "            else:\n",
    "                lhc_bfs[n] = mg_l.copy()\n",
    "                # lhc_bfs[n] = bfs([],[],neighbor_l,n)\n",
    "                neighbor_sorted_l = sorted(lhc_bfs, key=lambda k: len(lhc_bfs[k]), reverse=True).copy()\n",
    "    return sl\n",
    "\n",
    "\n",
    "print(lazy_hill_climbing( ))\n",
    "#[84424, 17002, 38863, 67720, 63303, 85814, 73298, 25350, 66513, 96159]"
   ],
   "metadata": {
    "collapsed": false
   }
  },
  {
   "cell_type": "code",
   "execution_count": null,
   "outputs": [],
   "source": [
    "# nemat = [3, 65252, 99974, 358, 67720, 33128, 131978, 38863, 885, 100471]\n",
    "# nodes_set = dic2list(nodes)\n",
    "# for i in S:\n",
    "#     print(i,len(list(nx.bfs_tree(nx.DiGraph(nodes_set),i  ))))"
   ],
   "metadata": {
    "collapsed": false
   }
  }
 ],
 "metadata": {
  "kernelspec": {
   "display_name": "Python 3",
   "language": "python",
   "name": "python3"
  },
  "language_info": {
   "codemirror_mode": {
    "name": "ipython",
    "version": 2
   },
   "file_extension": ".py",
   "mimetype": "text/x-python",
   "name": "python",
   "nbconvert_exporter": "python",
   "pygments_lexer": "ipython2",
   "version": "2.7.6"
  }
 },
 "nbformat": 4,
 "nbformat_minor": 0
}
