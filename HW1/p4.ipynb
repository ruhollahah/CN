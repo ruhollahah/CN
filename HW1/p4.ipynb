{
 "cells": [
  {
   "cell_type": "code",
   "execution_count": 1,
   "metadata": {
    "collapsed": true
   },
   "outputs": [],
   "source": [
    "import networkx as nx\n",
    "from tqdm import tqdm\n",
    "from datetime import datetime"
   ]
  },
  {
   "cell_type": "code",
   "execution_count": 2,
   "outputs": [],
   "source": [
    "start = datetime.now()\n",
    "file = open('ca-AstroPh.txt','r')\n",
    "lines = file.readlines()"
   ],
   "metadata": {
    "collapsed": false
   }
  },
  {
   "cell_type": "code",
   "execution_count": 3,
   "outputs": [],
   "source": [
    "def dic2list(myDic):\n",
    "    graph = []\n",
    "    for i in myDic.keys():\n",
    "        graph.append(i)\n",
    "    return graph"
   ],
   "metadata": {
    "collapsed": false
   }
  },
  {
   "cell_type": "code",
   "execution_count": 4,
   "outputs": [],
   "source": [
    "nodes = {}\n",
    "unique_nodes = set()\n",
    "# neighbor = {}\n",
    "neighbor_c = {}\n",
    "for l in lines:\n",
    "    if '#' in str(l):\n",
    "        continue\n",
    "    node = l.replace('\\n','').split('\\t')\n",
    "    n1 = int(node[0])\n",
    "    n2 = int(node[1])\n",
    "    nodes[(n1,n2)] = 1\n",
    "    unique_nodes.add(n1)\n",
    "    if  neighbor_c.get(n1,0) == 0:\n",
    "             neighbor_c[n1] = []\n",
    "    neighbor_c[n1].append(n2)\n",
    "\n",
    "nodes_set = dic2list(nodes)"
   ],
   "metadata": {
    "collapsed": false
   }
  },
  {
   "cell_type": "code",
   "execution_count": 5,
   "outputs": [],
   "source": [
    "def my_bfs(visited, queue, graph, node):\n",
    "    visited.append(node)\n",
    "    queue.append(node)\n",
    "    n_list = []\n",
    "    while queue:\n",
    "        s = queue.pop(0)\n",
    "        n_list.append(s)\n",
    "\n",
    "        for neighbour in graph[s]:\n",
    "            if neighbour not in visited:\n",
    "                visited.append(neighbour)\n",
    "                queue.append(neighbour)\n",
    "    return n_list"
   ],
   "metadata": {
    "collapsed": false
   }
  },
  {
   "cell_type": "code",
   "execution_count": 6,
   "outputs": [],
   "source": [
    "def iter_bfs_2(neighbor):\n",
    "    visited_n = []\n",
    "    queue_n = []\n",
    "    n_neighbor = {}\n",
    "    for a in tqdm(neighbor):\n",
    "        n_neighbor[a] = my_bfs(queue_n, visited_n,neighbor_c,a)\n",
    "    return n_neighbor"
   ],
   "metadata": {
    "collapsed": false
   }
  },
  {
   "cell_type": "code",
   "execution_count": null,
   "outputs": [
    {
     "name": "stderr",
     "output_type": "stream",
     "text": [
      "  0%|          | 0/18772 [00:00<?, ?it/s]"
     ]
    }
   ],
   "source": [
    "hc_bfsed =  iter_bfs_2(unique_nodes)"
   ],
   "metadata": {
    "collapsed": false,
    "pycharm": {
     "is_executing": true
    }
   }
  },
  {
   "cell_type": "code",
   "execution_count": null,
   "outputs": [],
   "source": [
    "neighbor_sorted = sorted(hc_bfsed, key=lambda k: len(hc_bfsed[k]), reverse=True).copy()\n",
    "neighbor_sorted[0:10]"
   ],
   "metadata": {
    "collapsed": false,
    "pycharm": {
     "is_executing": true
    }
   }
  },
  {
   "cell_type": "code",
   "execution_count": null,
   "outputs": [],
   "source": [
    "def hill_climbing(hc_s):\n",
    "    # neighbor_sorted.remove(neighbor_sorted[0])\n",
    "    # neighbor_sorted_h = neighbor_sorted.copy()\n",
    "    # neighbor_sorted_h.remove(neighbor_sorted_h[0])\n",
    "    unique_nodes_h = unique_nodes.copy()\n",
    "    neigh = set()\n",
    "    for s in hc_s:\n",
    "        unique_nodes_h.remove(s)\n",
    "        neigh.add(frozenset(hc_bfsed[s]))\n",
    "    while  len(hc_s) < 10 :\n",
    "        temp_dic = {}\n",
    "        for n in unique_nodes_h:\n",
    "            temp_dic[n] = neigh.union(hc_bfsed[n])\n",
    "        selected = sorted(temp_dic, key=lambda k: len(temp_dic[k]), reverse=True)[0]\n",
    "        neigh.add(frozenset(temp_dic[selected]))\n",
    "        hc_s.append(selected)\n",
    "        unique_nodes_h.remove(selected)\n",
    "    return hc_s\n",
    "S = []\n",
    "S.append(neighbor_sorted[0])\n",
    "\n",
    "hc = hill_climbing(S)\n",
    "hc"
   ],
   "metadata": {
    "collapsed": false,
    "pycharm": {
     "is_executing": true
    }
   }
  },
  {
   "cell_type": "code",
   "execution_count": null,
   "outputs": [],
   "source": [
    "for i in hc:\n",
    "    print(i,len(list(nx.bfs_tree(nx.DiGraph(nodes_set),i  ))))"
   ],
   "metadata": {
    "collapsed": false,
    "pycharm": {
     "is_executing": true
    }
   }
  },
  {
   "cell_type": "markdown",
   "source": [
    "### -Lazy Hill Climbing"
   ],
   "metadata": {
    "collapsed": false
   }
  },
  {
   "cell_type": "code",
   "execution_count": null,
   "outputs": [],
   "source": [
    "lhc_bfs = hc_bfsed.copy()\n",
    "lhc_bfs_sorted = sorted(lhc_bfs, key=lambda k: len(lhc_bfs[k]), reverse=True)\n",
    "lhc_bfs_sorted[0:10]"
   ],
   "metadata": {
    "collapsed": false,
    "pycharm": {
     "is_executing": true
    }
   }
  },
  {
   "cell_type": "code",
   "execution_count": null,
   "outputs": [],
   "source": [
    "def lazy_hill_climbing():\n",
    "    sl = []\n",
    "    neighbor_sorted_l = sorted(lhc_bfs, key=lambda k: len(lhc_bfs[k]), reverse=True).copy()\n",
    "    s1 = neighbor_sorted_l[0]\n",
    "    sl.append(s1)\n",
    "    sl_outs = lhc_bfs[s1].copy()\n",
    "\n",
    "    neighbor_sorted_l.remove(s1)\n",
    "    for i, n in enumerate(neighbor_sorted_l):\n",
    "        if len(sl) > 9:\n",
    "            break\n",
    "        left = n\n",
    "        right = neighbor_sorted_l[i + 1]\n",
    "\n",
    "        mg_l = [a for a in lhc_bfs[left] if a not in sl_outs]\n",
    "\n",
    "        l = len(mg_l)\n",
    "        r = len(lhc_bfs[right])\n",
    "\n",
    "        if l >= r:\n",
    "            sl.append(n)\n",
    "            sl_outs.append(lhc_bfs[n])\n",
    "        else:\n",
    "            lhc_bfs[n] = mg_l.copy()\n",
    "            neighbor_sorted_l = sorted(lhc_bfs, key=lambda k: len(lhc_bfs[k]), reverse=True).copy()\n",
    "    return sl\n",
    "lhc = lazy_hill_climbing()\n",
    "lhc"
   ],
   "metadata": {
    "collapsed": false,
    "pycharm": {
     "is_executing": true
    }
   }
  },
  {
   "cell_type": "code",
   "execution_count": null,
   "outputs": [],
   "source": [
    "for i in lhc:\n",
    "    print(i,len(list(nx.bfs_tree(nx.DiGraph(nodes_set),i  ))))"
   ],
   "metadata": {
    "collapsed": false,
    "pycharm": {
     "is_executing": true
    }
   }
  }
 ],
 "metadata": {
  "kernelspec": {
   "display_name": "Python 3",
   "language": "python",
   "name": "python3"
  },
  "language_info": {
   "codemirror_mode": {
    "name": "ipython",
    "version": 2
   },
   "file_extension": ".py",
   "mimetype": "text/x-python",
   "name": "python",
   "nbconvert_exporter": "python",
   "pygments_lexer": "ipython2",
   "version": "2.7.6"
  }
 },
 "nbformat": 4,
 "nbformat_minor": 0
}
