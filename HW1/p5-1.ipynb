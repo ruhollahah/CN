{
 "cells": [
  {
   "cell_type": "code",
   "execution_count": 1,
   "metadata": {
    "collapsed": true
   },
   "outputs": [],
   "source": [
    "import networkx as nx\n",
    "from tqdm import tqdm\n",
    "from datetime import datetime\n",
    "import numpy as np\n",
    "import random\n"
   ]
  },
  {
   "cell_type": "code",
   "execution_count": 2,
   "outputs": [],
   "source": [
    "file = open('ca-AstroPh.txt','r')\n",
    "lines = file.readlines()"
   ],
   "metadata": {
    "collapsed": false
   }
  },
  {
   "cell_type": "code",
   "execution_count": 3,
   "outputs": [],
   "source": [
    "def dic2list(myDic):\n",
    "    graph = []\n",
    "    for i in myDic.keys():\n",
    "        graph.append(i)\n",
    "    return graph"
   ],
   "metadata": {
    "collapsed": false
   }
  },
  {
   "cell_type": "code",
   "execution_count": 4,
   "outputs": [],
   "source": [
    "nodes = {}\n",
    "unique_nodes = set()\n",
    "neighbor_c = {}\n",
    "for l in lines:\n",
    "    if '#' in str(l):\n",
    "        continue\n",
    "    node = l.replace('\\n','').split('\\t')\n",
    "    n1 = int(node[0])\n",
    "    n2 = int(node[1])\n",
    "    nodes[(n1,n2)] = 1\n",
    "    unique_nodes.add(n1)\n",
    "    unique_nodes.add(n2)\n",
    "    if  neighbor_c.get(n1,0) == 0:\n",
    "             neighbor_c[n1] = []\n",
    "    neighbor_c[n1].append(n2)\n",
    "nodes_set = dic2list(nodes)"
   ],
   "metadata": {
    "collapsed": false
   }
  },
  {
   "cell_type": "code",
   "execution_count": 5,
   "outputs": [],
   "source": [
    "def my_bfs(visited, queue, graph, node):\n",
    "    visited.append(node)\n",
    "    queue.append(node)\n",
    "    n_list = []\n",
    "    while queue:\n",
    "        s = queue.pop(0)\n",
    "        n_list.append(s)\n",
    "        # print(graph[s])\n",
    "        if graph.get(s,0) != 0:\n",
    "            for neighbour in graph[s]:\n",
    "                if neighbour not in visited:\n",
    "                    visited.append(neighbour)\n",
    "                    queue.append(neighbour)\n",
    "    return n_list"
   ],
   "metadata": {
    "collapsed": false
   }
  },
  {
   "cell_type": "code",
   "execution_count": 6,
   "outputs": [],
   "source": [
    "def reward(visited, queue, graph, node,out):\n",
    "    visited.append(node)\n",
    "    queue.append(node)\n",
    "    i = 0\n",
    "    n_list = []\n",
    "    while queue:\n",
    "        s = queue.pop(0)\n",
    "        n_list.append(s)\n",
    "        if s == out:\n",
    "\n",
    "            break\n",
    "        i+=1\n",
    "        if graph.get(s,0) != 0:\n",
    "           for neighbour in graph.get(s,0):\n",
    "                if neighbour not in visited:\n",
    "                    visited.append(neighbour)\n",
    "                    queue.append(neighbour)\n",
    "    if out not in n_list or i == 0:\n",
    "        i = 2\n",
    "    return i"
   ],
   "metadata": {
    "collapsed": false
   }
  },
  {
   "cell_type": "code",
   "execution_count": 7,
   "outputs": [],
   "source": [
    "# graph = {5 : [3,7],3 : [2, 4],7 : [8],4 : [8],1 : [9],6:[]}\n",
    "# print(reward([],[], graph, 1,9))"
   ],
   "metadata": {
    "collapsed": false
   }
  },
  {
   "cell_type": "code",
   "execution_count": 8,
   "outputs": [],
   "source": [
    "def generate_realization_graph(nodes,p):\n",
    "    neighbor_probable = {}\n",
    "    nodes_probable_unique = set()\n",
    "    nodes_probable =  nodes.copy()\n",
    "    for i in list(nodes_probable.keys()):\n",
    "        if np.random.uniform(0,1,1)[0] > p:\n",
    "            del nodes_probable[i]\n",
    "        else:\n",
    "            nodes_probable_unique.add(i[0])\n",
    "            nodes_probable_unique.add(i[1])\n",
    "            if  neighbor_probable.get(i[0],0) == 0:\n",
    "                 neighbor_probable[i[0]] = []\n",
    "            if  neighbor_probable.get(i[1],0) == 0:\n",
    "                 neighbor_probable[i[1]] = []\n",
    "            neighbor_probable[i[0]].append(i[1])\n",
    "\n",
    "    return nodes_probable,nodes_probable_unique,neighbor_probable\n"
   ],
   "metadata": {
    "collapsed": false
   }
  },
  {
   "cell_type": "code",
   "execution_count": 9,
   "outputs": [
    {
     "data": {
      "text/plain": "5996"
     },
     "execution_count": 9,
     "metadata": {},
     "output_type": "execute_result"
    }
   ],
   "source": [
    "nodes_p,nodes_p_unique,neighbor_p =  generate_realization_graph(nodes,0.015)\n",
    "len(nodes_p)"
   ],
   "metadata": {
    "collapsed": false
   }
  },
  {
   "cell_type": "code",
   "execution_count": 10,
   "outputs": [
    {
     "data": {
      "text/plain": "[107988, 50515, 79201, 29607, 40607, 77580, 37862, 72555, 79863, 1411]"
     },
     "execution_count": 10,
     "metadata": {},
     "output_type": "execute_result"
    }
   ],
   "source": [
    "r_nodes_graph = list(nodes_p_unique)\n",
    "random.shuffle(r_nodes_graph)\n",
    "outbreak = r_nodes_graph[0:10]\n",
    "outbreak"
   ],
   "metadata": {
    "collapsed": false
   }
  },
  {
   "cell_type": "code",
   "execution_count": 11,
   "outputs": [
    {
     "data": {
      "text/plain": "[28224]"
     },
     "execution_count": 11,
     "metadata": {},
     "output_type": "execute_result"
    }
   ],
   "source": [
    "my_bfs([],[],neighbor_p,28224)"
   ],
   "metadata": {
    "collapsed": false
   }
  },
  {
   "cell_type": "code",
   "execution_count": 12,
   "outputs": [
    {
     "data": {
      "text/plain": "{107988: [107988],\n 50515: [50515, 8775, 114645, 60388],\n 79201: [79201, 129998],\n 29607: [29607],\n 40607: [40607,\n  6947,\n  72975,\n  111161,\n  26988,\n  5223,\n  25452,\n  34387,\n  36907,\n  40811,\n  44502,\n  67959,\n  115607,\n  120618,\n  123634,\n  37541,\n  13068,\n  52493,\n  88216,\n  99324,\n  102035,\n  124231,\n  113210,\n  11874,\n  34066,\n  131272,\n  106794,\n  79277,\n  116488,\n  80276,\n  52192,\n  97320,\n  47968,\n  118929,\n  25037,\n  80912,\n  99718,\n  66740,\n  79860,\n  116126,\n  125302,\n  83319,\n  119615,\n  65889,\n  31290,\n  31928,\n  87214,\n  40181,\n  66514,\n  72315,\n  84327,\n  89194,\n  70898,\n  17318,\n  4786,\n  52703,\n  86892,\n  129355,\n  131028,\n  123633,\n  79187,\n  41425,\n  56723,\n  57091,\n  77415,\n  69169,\n  18642,\n  55494,\n  47314,\n  130756,\n  15973,\n  97754,\n  13889,\n  27331,\n  49944,\n  95773,\n  49242,\n  22236,\n  95318,\n  96334,\n  90427,\n  74224,\n  111211,\n  114867,\n  42220,\n  117690,\n  113825,\n  113254,\n  76438,\n  1519,\n  9226,\n  34679,\n  111639,\n  13175,\n  15575,\n  111082,\n  127193,\n  9039,\n  2689,\n  37983,\n  916,\n  2633,\n  68018,\n  75616,\n  114539,\n  16877,\n  42143,\n  128213,\n  114530,\n  30588,\n  55539,\n  108090,\n  122030,\n  86103,\n  58401,\n  75373,\n  128262,\n  32217,\n  889,\n  104113,\n  34893,\n  93176,\n  123142,\n  124094,\n  5019,\n  76854,\n  86252,\n  93579,\n  128376,\n  83674,\n  20151,\n  67716,\n  121444,\n  11857,\n  15555,\n  22767,\n  59501,\n  115003,\n  103934,\n  99374,\n  64054,\n  34200,\n  31117,\n  119697,\n  13870,\n  19383,\n  33040,\n  86202,\n  65114,\n  72274,\n  83488,\n  38858,\n  98637,\n  89425,\n  106865,\n  123706,\n  40978,\n  41665,\n  52956,\n  55198,\n  111709,\n  122652,\n  126152,\n  51659,\n  86916,\n  117493,\n  87793,\n  57645,\n  116758,\n  9316,\n  17377,\n  62539,\n  123529,\n  1662,\n  28135,\n  39244,\n  56381,\n  96118,\n  94979,\n  32308,\n  122193,\n  41202,\n  16999,\n  132921,\n  22979,\n  86016,\n  107365,\n  120425,\n  124109,\n  75847,\n  117579,\n  3190,\n  91812,\n  125316,\n  52708,\n  84851,\n  11318,\n  14004,\n  18781,\n  87584,\n  117734,\n  126984,\n  54856,\n  59801,\n  33068,\n  110473,\n  116545,\n  72570,\n  65822,\n  55408,\n  15181,\n  28426,\n  103058,\n  18506,\n  116658,\n  70413,\n  105834,\n  92477,\n  122431,\n  78764,\n  42429,\n  72311,\n  102352,\n  108210,\n  14104,\n  70854,\n  91586,\n  117615,\n  91481,\n  30828,\n  131091,\n  10564,\n  21418,\n  93885,\n  100992,\n  48189,\n  124529,\n  43484,\n  50163,\n  87565,\n  123395,\n  44866,\n  98586,\n  19812,\n  83653,\n  90794,\n  96596,\n  33840,\n  42505,\n  107104,\n  17806,\n  97249,\n  122394,\n  72236,\n  13962,\n  111970,\n  47999,\n  65164,\n  35441,\n  71118,\n  22416,\n  37907,\n  49586,\n  77560,\n  85990,\n  94235,\n  106102,\n  26872,\n  89753,\n  6908,\n  8310,\n  26895,\n  127089,\n  11513,\n  64235,\n  100052,\n  97631,\n  40599,\n  107023,\n  40855,\n  31063,\n  91190,\n  117830,\n  94244,\n  107397,\n  117953,\n  2736,\n  23986,\n  106274,\n  623,\n  116319,\n  86951,\n  41127,\n  48471,\n  48487,\n  50983,\n  67134,\n  837,\n  92218,\n  811,\n  12203,\n  39696,\n  109286,\n  22462,\n  35550,\n  63552,\n  85607,\n  89487,\n  89538,\n  79892,\n  23156,\n  41918,\n  85323,\n  56664,\n  88348,\n  125678,\n  86560,\n  75314,\n  92395,\n  60010,\n  60495,\n  94915,\n  49684,\n  107194,\n  114377,\n  40407,\n  68233,\n  49387,\n  102954,\n  25895,\n  38921,\n  5866,\n  66995,\n  100394,\n  100606,\n  60957,\n  14859,\n  77480,\n  51866,\n  66707,\n  74590,\n  85502,\n  19546,\n  90822,\n  34265,\n  45970,\n  56747,\n  81251,\n  104103,\n  49344,\n  28210,\n  125910,\n  4148,\n  7026,\n  101994,\n  15610,\n  54681,\n  70074,\n  85740,\n  20766,\n  59040,\n  113591,\n  114804,\n  122181,\n  123951,\n  16558,\n  25962,\n  88,\n  9674,\n  117350,\n  30057,\n  111385,\n  126948,\n  89588,\n  130414,\n  78529,\n  33500,\n  87629,\n  47398,\n  51358,\n  53703,\n  65337,\n  87088,\n  99023,\n  107877,\n  106497,\n  61429,\n  18164,\n  100159,\n  118437,\n  130588,\n  26413,\n  85451,\n  119178,\n  23638,\n  71602,\n  98162,\n  115742,\n  129483,\n  24354,\n  100461,\n  58455,\n  45530,\n  98639,\n  123153,\n  130053,\n  57263,\n  62650,\n  106164,\n  127886,\n  61315,\n  82130,\n  13121,\n  61157,\n  94357,\n  100715,\n  126716,\n  128792,\n  8583,\n  60088,\n  82347,\n  2094,\n  57156,\n  130288,\n  40270,\n  46663,\n  53568,\n  66840,\n  98216,\n  38155,\n  61290,\n  84456,\n  114959,\n  55999,\n  56746,\n  2478,\n  32559,\n  40170,\n  44244,\n  6331,\n  21747,\n  71007,\n  111957,\n  124629,\n  112868,\n  7933,\n  48642,\n  120507,\n  54885,\n  58216,\n  131167,\n  28128,\n  28748,\n  31334,\n  9540,\n  10384,\n  51933,\n  88283,\n  103230,\n  126758,\n  100077,\n  111223,\n  120257,\n  29282,\n  64132,\n  84507,\n  102511,\n  4024,\n  71040,\n  115795,\n  21718,\n  115480,\n  84740,\n  2417,\n  70275,\n  72960,\n  118103,\n  99239,\n  102926,\n  111500,\n  113277,\n  56237,\n  110955,\n  38977,\n  76706,\n  103136,\n  106611,\n  64253,\n  93504,\n  2237,\n  109432,\n  112242,\n  7520,\n  54795,\n  67034,\n  88379,\n  108900,\n  4679,\n  46914,\n  49486,\n  15826,\n  28623,\n  78060,\n  124146,\n  529,\n  124741,\n  37479,\n  80479,\n  38109,\n  3677,\n  100958,\n  34417,\n  85476,\n  9999,\n  83171,\n  67528,\n  116973,\n  19204,\n  11205,\n  25329,\n  35375,\n  35690,\n  105404,\n  4239,\n  6288,\n  38898,\n  55066,\n  68327,\n  71507,\n  57807,\n  60308,\n  74901,\n  124713,\n  1324,\n  34459,\n  41554,\n  96870,\n  116146,\n  45773,\n  52762,\n  101212,\n  46160,\n  101189,\n  24377,\n  76830,\n  11913,\n  86460,\n  87089,\n  80593,\n  84176,\n  104961,\n  85077,\n  8775,\n  49934,\n  115992,\n  126679,\n  61974,\n  109509,\n  94833,\n  119253,\n  21560,\n  95927,\n  130853,\n  60975,\n  76327,\n  99969,\n  20298,\n  125784,\n  93012,\n  102397,\n  128471,\n  34608,\n  72216,\n  70366,\n  99741,\n  14149,\n  99539,\n  62821,\n  38349,\n  128150,\n  75223,\n  99361,\n  85659,\n  114715,\n  129063,\n  105049,\n  130519,\n  44135,\n  51027,\n  21209,\n  23070,\n  12656,\n  77320,\n  116893,\n  83860,\n  178,\n  130997,\n  60388,\n  42281,\n  114192,\n  45732,\n  57035,\n  110423,\n  128433,\n  92790,\n  101798,\n  5453,\n  36833,\n  49258,\n  84265,\n  48043,\n  35881,\n  33805,\n  53213,\n  64681,\n  81937,\n  29294,\n  73438,\n  78627,\n  113663,\n  104749,\n  542,\n  42883,\n  88930,\n  89091,\n  116017,\n  120626,\n  9606,\n  37303,\n  75171,\n  87300,\n  21281,\n  23692,\n  41169,\n  72770,\n  88644,\n  123389,\n  30062,\n  33779,\n  131866,\n  83351,\n  99086,\n  103484,\n  23626,\n  29643,\n  88155,\n  27169,\n  20496,\n  110455,\n  119434,\n  25230,\n  27031,\n  79811,\n  111580,\n  79267,\n  25203,\n  40098,\n  88012,\n  1155,\n  1334,\n  16123,\n  29732,\n  63470,\n  72004,\n  59861,\n  56221,\n  130401,\n  79633,\n  45779,\n  76749,\n  114762,\n  78038,\n  24394,\n  60288,\n  88481,\n  94526,\n  96002,\n  126052,\n  87779,\n  62604,\n  29289,\n  45163,\n  99634,\n  111271,\n  2515,\n  18314,\n  89862,\n  62695,\n  81477,\n  54526,\n  90186,\n  30693,\n  91619,\n  63793,\n  74570,\n  96411,\n  24583,\n  114352,\n  8273,\n  93032,\n  38264,\n  121988,\n  27701,\n  31113,\n  36044,\n  66157,\n  100138,\n  128598,\n  49970,\n  81647,\n  71689,\n  121030,\n  1086,\n  129183,\n  45746,\n  32718,\n  55000,\n  55799,\n  91666,\n  7205,\n  28577,\n  3607,\n  64411,\n  3028,\n  11529,\n  71801,\n  83051,\n  121831,\n  37805,\n  55837,\n  63476,\n  120747,\n  130158,\n  73479,\n  130134,\n  3552,\n  41333,\n  61812,\n  117867,\n  20405,\n  76427,\n  117051,\n  46415,\n  80429,\n  90402,\n  75457,\n  12756,\n  31076,\n  39659,\n  75972,\n  17642,\n  110974,\n  132589,\n  122753,\n  57772,\n  91152,\n  55559,\n  93679,\n  27406,\n  14129,\n  24751,\n  572,\n  114576,\n  5978,\n  13975,\n  15223,\n  21501,\n  76432,\n  67687,\n  112344,\n  48745,\n  14207,\n  129229,\n  8305,\n  10914,\n  56933,\n  110923,\n  51459,\n  111908,\n  44612,\n  90038,\n  98020,\n  33351,\n  72231,\n  18396,\n  28249,\n  52412,\n  72941,\n  60102,\n  119515,\n  42895,\n  58014,\n  93283,\n  40516,\n  105314,\n  28704,\n  74497,\n  77208,\n  126194,\n  74080,\n  44785,\n  126916,\n  4343,\n  43602,\n  90650,\n  99504,\n  119975,\n  102194,\n  65263,\n  115700,\n  23564,\n  95179,\n  55331,\n  112293,\n  62430,\n  77959,\n  111412,\n  90048,\n  95531,\n  102672,\n  125345,\n  20775,\n  28232,\n  84257,\n  94560,\n  107436,\n  12237,\n  60471,\n  6506,\n  120476,\n  23453,\n  39264,\n  56967,\n  24128,\n  100621,\n  32595,\n  63076,\n  42092,\n  64967,\n  87575,\n  122139,\n  64374,\n  62130,\n  63299,\n  49020,\n  75043,\n  95558,\n  100548,\n  100571,\n  7264,\n  18505,\n  27862,\n  22017,\n  76378,\n  114161,\n  28822,\n  54028,\n  52046,\n  8094,\n  9103,\n  113250,\n  116380,\n  12997,\n  52817,\n  99562,\n  107846,\n  133276,\n  82850,\n  117986,\n  133097,\n  122981,\n  69094,\n  121181,\n  12336,\n  8615,\n  48863,\n  49687,\n  116284,\n  45900,\n  73349,\n  47110,\n  88663,\n  84727,\n  111072,\n  72298,\n  19911,\n  60329,\n  44091,\n  64192,\n  64391,\n  25138,\n  73006,\n  114,\n  24075,\n  103671,\n  110711,\n  96186,\n  128403,\n  45920,\n  103492,\n  103697,\n  97860,\n  122276,\n  72490,\n  59793,\n  120851,\n  116881,\n  83992,\n  84164,\n  72168,\n  82195,\n  80629,\n  103558,\n  117778,\n  22523,\n  118341,\n  131391,\n  8816,\n  31261,\n  57186,\n  131717,\n  85972,\n  109386,\n  121118,\n  88981,\n  7898,\n  18021,\n  112479,\n  28317,\n  126394,\n  9668,\n  21341,\n  16795,\n  114871,\n  17454,\n  20055,\n  9896,\n  11443,\n  11799,\n  62596,\n  503,\n  6173,\n  67744,\n  67890,\n  128081,\n  36257,\n  44645,\n  83016,\n  27445,\n  43025,\n  106893,\n  10054,\n  57150,\n  59915,\n  77617,\n  109819,\n  73626,\n  7031,\n  59733,\n  80123,\n  99972,\n  35303,\n  128641,\n  68444,\n  104241,\n  36528,\n  131704,\n  88647,\n  93360,\n  50427,\n  66413,\n  16042,\n  73216,\n  59830,\n  40495,\n  54239,\n  67580,\n  117255,\n  69375,\n  91843,\n  50537,\n  88968,\n  109369,\n  77194,\n  114533,\n  14347,\n  22833,\n  47045],\n 77580: [77580, 40000],\n 37862: [37862],\n 72555: [72555,\n  81761,\n  71541,\n  116514,\n  118966,\n  79712,\n  115231,\n  67580,\n  87160,\n  87584,\n  102116,\n  128146,\n  95036,\n  77253,\n  49421,\n  39789],\n 79863: [79863, 61429, 94408, 98216, 22236],\n 1411: [1411, 100450, 128015]}"
     },
     "execution_count": 12,
     "metadata": {},
     "output_type": "execute_result"
    }
   ],
   "source": [
    "outbreack_neighbor = {}\n",
    "# print(outbreak)\n",
    "def outbreak_out(outbreak):\n",
    "    for o in outbreak:\n",
    "        # print(o)\n",
    "        outbreack_neighbor[o] = my_bfs([],[],neighbor_p,o)\n",
    "outbreak_out(outbreak)\n",
    "outbreack_neighbor"
   ],
   "metadata": {
    "collapsed": false
   }
  },
  {
   "cell_type": "code",
   "execution_count": 13,
   "outputs": [
    {
     "name": "stderr",
     "output_type": "stream",
     "text": [
      "100%|██████████| 6454/6454 [00:19<00:00, 333.29it/s]\n"
     ]
    }
   ],
   "source": [
    "rewards = {}\n",
    "def calculate_node_reward( ):\n",
    "    for n in tqdm(nodes_p_unique):\n",
    "        n_list = []\n",
    "        for o in outbreak:\n",
    "             n_list.append(-1 * reward([],[],neighbor_p,o,n))\n",
    "        rewards[n] = np.sum(n_list)\n",
    "        # print(n,n_list)\n",
    "calculate_node_reward( )\n",
    "# print(rewards)"
   ],
   "metadata": {
    "collapsed": false
   }
  },
  {
   "cell_type": "code",
   "execution_count": 14,
   "outputs": [],
   "source": [
    "# for k in sorted(rewards, key=lambda k: rewards[k], reverse=True)[0:10]:\n",
    "#     print(k,rewards[k])"
   ],
   "metadata": {
    "collapsed": false
   }
  },
  {
   "cell_type": "code",
   "execution_count": 15,
   "outputs": [],
   "source": [
    "def calculate_nodes_reward(nodes_p_unique,neighbor_p,outbreak ):\n",
    "    reward_new = {}\n",
    "    for n in tqdm(nodes_p_unique):\n",
    "        n_list = []\n",
    "        for o in outbreak:\n",
    "             n_list.append(-1 * reward([],[],neighbor_p,o,n))\n",
    "        reward_new[n] = np.sum(n_list)\n",
    "    return reward_new"
   ],
   "metadata": {
    "collapsed": false
   }
  },
  {
   "cell_type": "code",
   "execution_count": 16,
   "outputs": [
    {
     "name": "stderr",
     "output_type": "stream",
     "text": [
      "100%|██████████| 6453/6453 [00:19<00:00, 333.01it/s]\n",
      "100%|██████████| 6452/6452 [00:19<00:00, 333.68it/s]\n",
      "100%|██████████| 6451/6451 [00:19<00:00, 334.00it/s]\n",
      "100%|██████████| 6450/6450 [00:19<00:00, 334.03it/s]\n",
      "100%|██████████| 6449/6449 [00:00<00:00, 98871.50it/s]\n",
      "100%|██████████| 6448/6448 [00:00<00:00, 119944.08it/s]\n",
      "100%|██████████| 6447/6447 [00:00<00:00, 129233.45it/s]\n",
      "100%|██████████| 6446/6446 [00:00<00:00, 145619.71it/s]\n",
      "100%|██████████| 6445/6445 [00:00<00:00, 177417.97it/s]\n",
      "100%|██████████| 6444/6444 [00:00<00:00, 266436.27it/s]"
     ]
    },
    {
     "name": "stdout",
     "output_type": "stream",
     "text": [
      "hill climbing time 0:01:17.636883\n",
      "13 -20\n",
      "100450 -19\n",
      "6947 -19\n",
      "40000 -19\n",
      "81761 -19\n",
      "61429 -403\n",
      "65540 -20\n",
      "81925 -20\n",
      "49159 -20\n",
      "98315 -20\n",
      "49163 -20\n"
     ]
    },
    {
     "name": "stderr",
     "output_type": "stream",
     "text": [
      "\n"
     ]
    }
   ],
   "source": [
    "def hill_climing():\n",
    "    start = datetime.now()\n",
    "    sort =  sorted(rewards, key=lambda k: rewards[k], reverse=True)\n",
    "    S = []\n",
    "    cost=[]\n",
    "    neighbor_p_c = neighbor_p.copy()\n",
    "    S.append(sorted(sort)[0])\n",
    "    cost.append(len(neighbor_p_c[sort[0]]) * 0.8)\n",
    "    unique_nodes_h = nodes_p_unique.copy()\n",
    "    outbreak_h = outbreak.copy()\n",
    "    outbreak_h.pop(0)\n",
    "    neigh = set()\n",
    "    for s in S:\n",
    "        unique_nodes_h.remove(s)\n",
    "        del neighbor_p_c[s]\n",
    "    while np.sum(cost) < 5 :\n",
    "        temp_dic = {}\n",
    "        temp_dic.update(calculate_nodes_reward(unique_nodes_h,neighbor_p_c,outbreak_h))\n",
    "        n = sorted(temp_dic, key=lambda k: temp_dic[k], reverse=True)[0]\n",
    "        S.append(n)\n",
    "        cost.append(len(neighbor_p[n]) * 0.8)\n",
    "        unique_nodes_h.remove(n)\n",
    "        del neighbor_p_c[n]\n",
    "        if len(outbreak_h) == 0:\n",
    "            break\n",
    "        outbreak_h.pop(0)\n",
    "    print(\"hill climbing time : \", datetime.now()-start)\n",
    "    return S\n",
    "\n",
    "\n",
    "for k in hill_climing():\n",
    "    print(k,rewards[k])"
   ],
   "metadata": {
    "collapsed": false
   }
  },
  {
   "cell_type": "markdown",
   "source": [
    "### Lazy hill climbing"
   ],
   "metadata": {
    "collapsed": false
   }
  },
  {
   "cell_type": "code",
   "execution_count": 17,
   "outputs": [
    {
     "data": {
      "text/plain": "[100450, 6947, 40000, 81761, 129998, 65540, 98315, 13, 15, 98325]"
     },
     "execution_count": 17,
     "metadata": {},
     "output_type": "execute_result"
    }
   ],
   "source": [
    "mg_sorted = sorted(rewards, key=lambda k: rewards[k], reverse=True)\n",
    "mg_sorted[0:10]"
   ],
   "metadata": {
    "collapsed": false
   }
  },
  {
   "cell_type": "code",
   "execution_count": 18,
   "outputs": [],
   "source": [
    "def calculate_node_reward(node,neighbor_p,outbreak ):\n",
    "    reward_new = {}\n",
    "\n",
    "    n_list = []\n",
    "    for o in outbreak:\n",
    "         n_list.append(-1 * reward([],[],neighbor_p,o,node))\n",
    "    reward_new[node] = np.sum(n_list)\n",
    "    return reward_new"
   ],
   "metadata": {
    "collapsed": false
   }
  },
  {
   "cell_type": "code",
   "execution_count": 19,
   "outputs": [
    {
     "name": "stdout",
     "output_type": "stream",
     "text": [
      "{100450: -19, 6947: -19, 40000: -19, 81761: -19, 129998: -19, 65540: -20, 98315: -20, 13: -20, 15: -20, 98325: -20}\n",
      "lazy hill climbing time :  0:00:00.031425\n"
     ]
    }
   ],
   "source": [
    "def lazy_hill_climbing():\n",
    "    start = datetime.now()\n",
    "    cost =  []\n",
    "    S= {}\n",
    "    mg_lh_sorted = mg_sorted.copy()\n",
    "    # S.append(mg_lh_sorted[0])\n",
    "    unique_nodes_h = nodes_p_unique.copy()\n",
    "    outbreak_h = outbreak.copy()\n",
    "    neighbor_p_c = neighbor_p.copy()\n",
    "    rewards_lhc = rewards.copy()\n",
    "    S[mg_lh_sorted[0]] = rewards_lhc[mg_lh_sorted[0]]\n",
    "    outbreak_h.pop(0)\n",
    "    cost.append(len(neighbor_p_c[mg_lh_sorted[0]]) * 0.8)\n",
    "    for i , n in enumerate(mg_lh_sorted):\n",
    "        if len (S) > 9:\n",
    "            break\n",
    "        left = n\n",
    "        right = mg_sorted[i+1]\n",
    "        l = rewards_lhc[left]\n",
    "        r = rewards_lhc[right]\n",
    "        if np.sum(cost) < 10 :\n",
    "            if i != 0:\n",
    "                S[n] = rewards_lhc[n]\n",
    "            rewards_lhc[n] = calculate_node_reward(mg_lh_sorted[i+1],neighbor_p_c,outbreak_h)\n",
    "            unique_nodes_h.remove(n)\n",
    "            del neighbor_p_c[n]\n",
    "            cost.append(len(neighbor_p[n]) * 0.8)\n",
    "            if len(outbreak_h) == 0:\n",
    "                break\n",
    "        else:\n",
    "            neighbor_p_c = sorted(rewards_lhc, key=lambda k: rewards_lhc[k], reverse=True)\n",
    "    print(S)\n",
    "    print(\"lazy hill climbing time : \", datetime.now()-start)\n",
    "    return S\n",
    "lhc_simple = lazy_hill_climbing()"
   ],
   "metadata": {
    "collapsed": false
   }
  },
  {
   "cell_type": "markdown",
   "source": [
    "### Celf with benefit cost"
   ],
   "metadata": {
    "collapsed": false
   }
  },
  {
   "cell_type": "code",
   "execution_count": 20,
   "outputs": [],
   "source": [
    "def calculate_benefit_cost(node,neighbor_p,outbreak ):\n",
    "    reward_new = {}\n",
    "    # cost = {}\n",
    "    n_list = []\n",
    "    for o in outbreak:\n",
    "        if node in outbreack_neighbor[o]:\n",
    "                n_list.append(-1 * reward([],[],neighbor_p,o,node))\n",
    "        else:\n",
    "                n_list.append(0)\n",
    "\n",
    "    reward_new[node] = (np.sum(n_list) * 0.25 * -1)/(0.8* len(neighbor_p[node]))\n",
    "    # cost[node] = (0.8* len(neighbor_p[node]))\n",
    "    return reward_new"
   ],
   "metadata": {
    "collapsed": false
   }
  },
  {
   "cell_type": "code",
   "execution_count": 21,
   "outputs": [
    {
     "name": "stderr",
     "output_type": "stream",
     "text": [
      "100%|██████████| 6454/6454 [00:19<00:00, 333.57it/s]\n"
     ]
    }
   ],
   "source": [
    "rewards={}\n",
    "def calculate_node_reward( ):\n",
    "\n",
    "    for n in tqdm(nodes_p_unique):\n",
    "        n_list = []\n",
    "        for o in outbreak:\n",
    "             n_list.append(-1 * reward([],[],neighbor_p,o,n))\n",
    "        rewards[n] = (np.sum(n_list) * 0.25 * -1)/0.8* len(neighbor_p[n])\n",
    "        # print(n, rewards[n])\n",
    "    return rewards\n",
    "\n",
    "x = calculate_node_reward()\n",
    "mg_celf_bc_sorted = sorted(x, key=lambda k: x[k], reverse=True)\n",
    "\n",
    "# mg_celf_bc_sorted"
   ],
   "metadata": {
    "collapsed": false
   }
  },
  {
   "cell_type": "code",
   "execution_count": 22,
   "outputs": [
    {
     "name": "stdout",
     "output_type": "stream",
     "text": [
      "{128081: 1803.75, 53213: 1774.6875}\n",
      "benefit cost time:  0:00:00.004840\n"
     ]
    }
   ],
   "source": [
    "def celf_bc():\n",
    "    start = datetime.now()\n",
    "    S = {}\n",
    "    cost = []\n",
    "    rewards_lhc = x.copy()\n",
    "    mg_lh_sorted = mg_celf_bc_sorted.copy()\n",
    "    S[mg_lh_sorted[0]] = rewards_lhc[mg_lh_sorted[0]]\n",
    "    unique_nodes_h = nodes_p_unique.copy()\n",
    "    outbreak_h = outbreak.copy()\n",
    "    neighbor_p_c = neighbor_p.copy()\n",
    "    cost.append(len(neighbor_p_c[mg_lh_sorted[0]]) * 0.8)\n",
    "    outbreak_h.pop(0)\n",
    "    for i , n in enumerate(mg_lh_sorted):\n",
    "        if len (S) > 9:\n",
    "            break\n",
    "        left = n\n",
    "        right = mg_lh_sorted[i+1]\n",
    "        l = rewards_lhc[left]\n",
    "        r = rewards_lhc[right]\n",
    "        # print(np.sum(cost))\n",
    "        # if True :\n",
    "        if l > r :\n",
    "            if i != 0:\n",
    "                # S.append(n)\n",
    "                # print(rewards_lhc[n])\n",
    "                S[n] = rewards_lhc[n]\n",
    "            rewards_lhc[n] = calculate_benefit_cost(mg_lh_sorted[i+1],neighbor_p_c,outbreak_h)\n",
    "            cost.append(len(neighbor_p_c[n]) * 0.8)\n",
    "            unique_nodes_h.remove(n)\n",
    "            del neighbor_p_c[n]\n",
    "            if len(outbreak_h) == 0 or np.sum(cost) > 10 :\n",
    "                break\n",
    "\n",
    "        else:\n",
    "            neighbor_p_c = sorted(rewards_lhc, key=lambda k: rewards_lhc[k], reverse=True)\n",
    "    print(S)\n",
    "    print(\"benefit cost time: \",datetime.now()-start)\n",
    "    return S\n",
    "\n",
    "\n",
    "lhc_benefit = celf_bc()\n"
   ],
   "metadata": {
    "collapsed": false
   }
  },
  {
   "cell_type": "code",
   "execution_count": 23,
   "outputs": [
    {
     "data": {
      "text/plain": "{128081: 1803.75, 53213: 1774.6875}"
     },
     "execution_count": 23,
     "metadata": {},
     "output_type": "execute_result"
    }
   ],
   "source": [
    "# colors = {\n",
    "#     \"blue\" : \"5\",\n",
    "#     \"red\" : \"6\",\n",
    "#     \"yellow\" : \"8\",\n",
    "# }\n",
    "# first_key = list(colors)[0]\n",
    "# first_val = list(colors.values())[0]\n",
    "# print(first_key,first_val)\n",
    "lhc_benefit"
   ],
   "metadata": {
    "collapsed": false
   }
  },
  {
   "cell_type": "code",
   "execution_count": 24,
   "outputs": [
    {
     "name": "stdout",
     "output_type": "stream",
     "text": [
      "128081\n",
      "53213\n",
      "40000\n",
      "81761\n",
      "129998\n",
      "65540\n",
      "98315\n",
      "13\n",
      "15\n",
      "98325\n"
     ]
    }
   ],
   "source": [
    "for i in range(len(lhc_simple)):\n",
    "    if len(lhc_benefit) > i  :\n",
    "        if list(lhc_simple.values())[i] > list(lhc_benefit.values())[i]:\n",
    "            print(list(lhc_simple)[i])\n",
    "        else:\n",
    "            print(list(lhc_benefit)[i])\n",
    "    else:\n",
    "        print(list(lhc_simple)[i])\n"
   ],
   "metadata": {
    "collapsed": false
   }
  },
  {
   "cell_type": "code",
   "execution_count": 24,
   "outputs": [],
   "source": [],
   "metadata": {
    "collapsed": false
   }
  }
 ],
 "metadata": {
  "kernelspec": {
   "display_name": "Python 3",
   "language": "python",
   "name": "python3"
  },
  "language_info": {
   "codemirror_mode": {
    "name": "ipython",
    "version": 2
   },
   "file_extension": ".py",
   "mimetype": "text/x-python",
   "name": "python",
   "nbconvert_exporter": "python",
   "pygments_lexer": "ipython2",
   "version": "2.7.6"
  }
 },
 "nbformat": 4,
 "nbformat_minor": 0
}
